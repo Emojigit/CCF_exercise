{
 "cells": [
  {
   "cell_type": "code",
   "execution_count": 1,
   "id": "e6d59e39-80c8-4d25-aa08-b50a14e5f340",
   "metadata": {},
   "outputs": [],
   "source": [
    "from sage.crypto.mq.rijndael_gf import RijndaelGF as RGF\n",
    "import math"
   ]
  },
  {
   "cell_type": "code",
   "execution_count": 10,
   "id": "73c3d03a-3a2e-41c0-b0ad-31cf64ae8776",
   "metadata": {},
   "outputs": [],
   "source": [
    "def pad(h):\n",
    "    if len(h) % 32 != 0:\n",
    "        return h + (\"0\" * (32 - len(h) % 32))\n",
    "    return h"
   ]
  },
  {
   "cell_type": "code",
   "execution_count": 21,
   "id": "990f9a2a-fc6e-4727-8907-3e2bae38851d",
   "metadata": {},
   "outputs": [],
   "source": [
    "def slice(h):\n",
    "    states = []\n",
    "    for x in range(0,math.ceil(len(h)/32)):\n",
    "        states.append(h[x*32:(x+1)*32])\n",
    "    return states"
   ]
  },
  {
   "cell_type": "code",
   "execution_count": 22,
   "id": "9a8113be-c5b1-4911-b03a-1f0469e6753d",
   "metadata": {},
   "outputs": [
    {
     "data": {
      "text/plain": [
       "'00112233445566778899aabbccddeefff0000000000000000000000000000000'"
      ]
     },
     "execution_count": 22,
     "metadata": {},
     "output_type": "execute_result"
    }
   ],
   "source": [
    "pad('00112233445566778899aabbccddeefff')"
   ]
  },
  {
   "cell_type": "code",
   "execution_count": 23,
   "id": "517da452-1f0b-42a8-9963-b7d060a7b0a6",
   "metadata": {},
   "outputs": [
    {
     "data": {
      "text/plain": [
       "['00112233445566778899aabbccddeeff', 'f0000000000000000000000000000000']"
      ]
     },
     "execution_count": 23,
     "metadata": {},
     "output_type": "execute_result"
    }
   ],
   "source": [
    "slice(_)"
   ]
  },
  {
   "cell_type": "code",
   "execution_count": 24,
   "id": "38749152-ac5c-4e4d-9301-12fb46de5deb",
   "metadata": {},
   "outputs": [],
   "source": [
    "def encrypt(IV, P, K): pass"
   ]
  },
  {
   "cell_type": "code",
   "execution_count": null,
   "id": "0a532117-80e6-41b4-9301-be8da220e45e",
   "metadata": {},
   "outputs": [],
   "source": []
  }
 ],
 "metadata": {
  "kernelspec": {
   "display_name": "SageMath 10.1",
   "language": "sage",
   "name": "sagemath"
  },
  "language_info": {
   "codemirror_mode": {
    "name": "ipython",
    "version": 3
   },
   "file_extension": ".py",
   "mimetype": "text/x-python",
   "name": "python",
   "nbconvert_exporter": "python",
   "pygments_lexer": "ipython3",
   "version": "3.11.5"
  }
 },
 "nbformat": 4,
 "nbformat_minor": 5
}
