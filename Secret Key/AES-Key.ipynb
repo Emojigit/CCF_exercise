{
 "cells": [
  {
   "cell_type": "code",
   "execution_count": null,
   "id": "cab6d104-9df8-4b9d-9dec-1859a7715e76",
   "metadata": {},
   "outputs": [],
   "source": [
    "# ExpandKey\n",
    "K='2b7e151628aed2a6abf7158809cf4f3c'\n",
    "W = "
   ]
  }
 ],
 "metadata": {
  "kernelspec": {
   "display_name": "SageMath 10.1",
   "language": "sage",
   "name": "sagemath"
  },
  "language_info": {
   "codemirror_mode": {
    "name": "ipython",
    "version": 3
   },
   "file_extension": ".py",
   "mimetype": "text/x-python",
   "name": "python",
   "nbconvert_exporter": "python",
   "pygments_lexer": "ipython3",
   "version": "3.11.5"
  }
 },
 "nbformat": 4,
 "nbformat_minor": 5
}
