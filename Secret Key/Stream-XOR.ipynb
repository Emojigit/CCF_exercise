{
 "cells": [
  {
   "cell_type": "code",
   "execution_count": 1,
   "id": "7ac3d2f2-88d7-4442-b27b-97cefd8bda82",
   "metadata": {},
   "outputs": [],
   "source": [
    "import random"
   ]
  },
  {
   "cell_type": "code",
   "execution_count": 2,
   "id": "25c13599-4c5f-435f-8595-18b30b7fd7b1",
   "metadata": {},
   "outputs": [],
   "source": [
    "def getkey(length):\n",
    "    return tuple(getrandbits(8) for i in range(length))"
   ]
  },
  {
   "cell_type": "code",
   "execution_count": 3,
   "id": "c64dbb77-7363-457c-8465-c5a6238dfdf1",
   "metadata": {},
   "outputs": [
    {
     "data": {
      "text/plain": [
       "(128, 237, 222, 98, 53)"
      ]
     },
     "execution_count": 3,
     "metadata": {},
     "output_type": "execute_result"
    }
   ],
   "source": [
    "getkey(5)"
   ]
  },
  {
   "cell_type": "code",
   "execution_count": 4,
   "id": "65482381-597f-4cd3-9cb3-0f7a80ea4ec1",
   "metadata": {},
   "outputs": [],
   "source": [
    "def str_to_array(s):\n",
    "    return tuple(ord(c) for c in s)\n",
    "\n",
    "def array_to_str(arr):\n",
    "    return \"\".join(chr(x) for x in arr)"
   ]
  },
  {
   "cell_type": "code",
   "execution_count": 5,
   "id": "4a6f2499-e117-44e2-9983-226dfc3c6bb6",
   "metadata": {},
   "outputs": [
    {
     "data": {
      "text/plain": [
       "(72, 101, 108, 108, 111, 44, 32, 87, 111, 114, 108, 100, 33)"
      ]
     },
     "execution_count": 5,
     "metadata": {},
     "output_type": "execute_result"
    }
   ],
   "source": [
    "str_to_array(\"Hello, World!\")"
   ]
  },
  {
   "cell_type": "code",
   "execution_count": 6,
   "id": "ca075560-cd69-4b5b-b855-79cf92b0ce45",
   "metadata": {},
   "outputs": [],
   "source": [
    "def operation(P, K):\n",
    "    assert len(P) == len(K)\n",
    "    return tuple(P[x] ^^ K[x] for x in range(len(P)))\n",
    "\n",
    "encrypt, decrypt = operation, operation"
   ]
  },
  {
   "cell_type": "code",
   "execution_count": 7,
   "id": "50695614-dc0d-4816-9cc5-b31a95cb168e",
   "metadata": {},
   "outputs": [],
   "source": [
    "P = \"Hello, World!\""
   ]
  },
  {
   "cell_type": "code",
   "execution_count": 8,
   "id": "045d4430-9b4e-44d3-a167-af5f8404132b",
   "metadata": {},
   "outputs": [
    {
     "data": {
      "text/plain": [
       "(72, 101, 108, 108, 111, 44, 32, 87, 111, 114, 108, 100, 33)"
      ]
     },
     "execution_count": 8,
     "metadata": {},
     "output_type": "execute_result"
    }
   ],
   "source": [
    "P_arr = str_to_array(P); P_arr"
   ]
  },
  {
   "cell_type": "code",
   "execution_count": 9,
   "id": "371d59d3-92f2-4149-951e-070968dbf229",
   "metadata": {},
   "outputs": [
    {
     "data": {
      "text/plain": [
       "(118, 43, 240, 142, 46, 205, 72, 235, 33, 131, 172, 179, 31)"
      ]
     },
     "execution_count": 9,
     "metadata": {},
     "output_type": "execute_result"
    }
   ],
   "source": [
    "K = getkey(len(P_arr)); K"
   ]
  },
  {
   "cell_type": "code",
   "execution_count": 10,
   "id": "1c68d2c5-1340-4c48-9e6c-8077aa399024",
   "metadata": {},
   "outputs": [
    {
     "data": {
      "text/plain": [
       "(62, 78, 156, 226, 65, 225, 104, 188, 78, 241, 192, 215, 62)"
      ]
     },
     "execution_count": 10,
     "metadata": {},
     "output_type": "execute_result"
    }
   ],
   "source": [
    "C = encrypt(P_arr, K); C"
   ]
  },
  {
   "cell_type": "code",
   "execution_count": 11,
   "id": "88632e5a-c641-4bfe-8463-511055a921de",
   "metadata": {},
   "outputs": [
    {
     "data": {
      "text/plain": [
       "(72, 101, 108, 108, 111, 44, 32, 87, 111, 114, 108, 100, 33)"
      ]
     },
     "execution_count": 11,
     "metadata": {},
     "output_type": "execute_result"
    }
   ],
   "source": [
    "P_d = decrypt(C, K); P_d"
   ]
  },
  {
   "cell_type": "code",
   "execution_count": 12,
   "id": "feeb69ec-dc9e-45de-81d8-ffc6ae5c8c8f",
   "metadata": {},
   "outputs": [
    {
     "data": {
      "text/plain": [
       "'Hello, World!'"
      ]
     },
     "execution_count": 12,
     "metadata": {},
     "output_type": "execute_result"
    }
   ],
   "source": [
    "P_d_str = array_to_str(P_d);P_d_str"
   ]
  },
  {
   "cell_type": "code",
   "execution_count": null,
   "id": "8135b14f-0892-4086-9754-32d061720d6e",
   "metadata": {},
   "outputs": [],
   "source": []
  }
 ],
 "metadata": {
  "kernelspec": {
   "display_name": "SageMath 10.1",
   "language": "sage",
   "name": "sagemath"
  },
  "language_info": {
   "codemirror_mode": {
    "name": "ipython",
    "version": 3
   },
   "file_extension": ".py",
   "mimetype": "text/x-python",
   "name": "python",
   "nbconvert_exporter": "python",
   "pygments_lexer": "ipython3",
   "version": "3.11.5"
  }
 },
 "nbformat": 4,
 "nbformat_minor": 5
}
