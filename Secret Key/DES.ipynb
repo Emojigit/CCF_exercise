{
 "cells": [
  {
   "cell_type": "code",
   "execution_count": null,
   "id": "c480a972-015d-4255-a58f-3e02f7c640b2",
   "metadata": {},
   "outputs": [],
   "source": [
    "import array, numpy as np\n",
    "\n",
    "# Return L, R\n",
    "def initial_permutation_preprocess(ip):\n",
    "    assert len(ip) == 8, \"The length of data block must be 8\"\n",
    "    ip_ensure_int = np.array(dtype=np.byte)\n",
    "    for x in ip:\n",
    "        if isinstance(x,Integer):\n",
    "            ip_ensure_int.append(int(x))\n",
    "            continue\n",
    "        assert isinstance(x,int), \"The data type of data must be integers\"\n",
    "        assert x.bit_length <= 8, \"The bit length of each content must not be higher than 8\"\n",
    "        ip_ensure_int.append(x)\n",
    "    return ip_ensure_int[:4], ip_ensure_int[4:]\n",
    "\n",
    "# Return an 16 long array containing the key (\n",
    "def DES_key_schedule(KEY):\n",
    "    \n",
    "\n",
    "# L is the first 32 byte of the previous iteration, and R is the rest\n",
    "# KEY is the 64-bit key\n",
    "# Running on nth iteration, the initial iteration should have n=1\n",
    "def DES_encrypt_iteration(L,R,K):\n",
    "    assert 1 <= n and n <= 16, \"n must fall in the range of 1 to 16 inclusively\"\n",
    "\n",
    "# KEY is the 64-bit key\n",
    "def DES_encrypt(ip,KEY):"
   ]
  }
 ],
 "metadata": {
  "kernelspec": {
   "display_name": "SageMath 10.0",
   "language": "sage",
   "name": "sagemath"
  },
  "language_info": {
   "codemirror_mode": {
    "name": "ipython",
    "version": 3
   },
   "file_extension": ".py",
   "mimetype": "text/x-python",
   "name": "python",
   "nbconvert_exporter": "python",
   "pygments_lexer": "ipython3",
   "version": "3.11.3"
  }
 },
 "nbformat": 4,
 "nbformat_minor": 5
}
