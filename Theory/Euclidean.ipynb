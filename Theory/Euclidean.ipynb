{
 "cells": [
  {
   "cell_type": "code",
   "execution_count": 1,
   "id": "30daaefd-815d-4a1d-80d7-6eedad33d804",
   "metadata": {},
   "outputs": [],
   "source": [
    "def euclidean(a,b):\n",
    "    assert a > 0 and b > 0\n",
    "    if a <= b: a,b = b,a\n",
    "    while b != 0:\n",
    "        a,b = b, a%b\n",
    "    return a"
   ]
  },
  {
   "cell_type": "code",
   "execution_count": 2,
   "id": "b56d84d4-5a21-463d-bc99-d7f4de14215d",
   "metadata": {},
   "outputs": [
    {
     "data": {
      "text/plain": [
       "1"
      ]
     },
     "execution_count": 2,
     "metadata": {},
     "output_type": "execute_result"
    }
   ],
   "source": [
    "euclidean(336,11)"
   ]
  },
  {
   "cell_type": "code",
   "execution_count": 3,
   "id": "88280a9a-d28f-4ac1-9b72-70fd93dd2892",
   "metadata": {},
   "outputs": [
    {
     "name": "stdout",
     "output_type": "stream",
     "text": [
      "235 ns ± 0.694 ns per loop (mean ± std. dev. of 7 runs, 1,000,000 loops each)\n",
      "170 ns ± 0.615 ns per loop (mean ± std. dev. of 7 runs, 10,000,000 loops each)\n"
     ]
    }
   ],
   "source": [
    "a = 10000\n",
    "b = 100\n",
    "\n",
    "%timeit euclidean(a,b)\n",
    "%timeit gcd(a,b)"
   ]
  },
  {
   "cell_type": "code",
   "execution_count": 4,
   "id": "fce2afda-ed36-4835-b5c5-a971c648a183",
   "metadata": {},
   "outputs": [
    {
     "name": "stdout",
     "output_type": "stream",
     "text": [
      "1.39 µs ± 2.81 ns per loop (mean ± std. dev. of 7 runs, 1,000,000 loops each)\n",
      "186 ns ± 0.427 ns per loop (mean ± std. dev. of 7 runs, 10,000,000 loops each)\n"
     ]
    }
   ],
   "source": [
    "a = 43209670356\n",
    "b = 34867986\n",
    "\n",
    "%timeit euclidean(a,b)\n",
    "%timeit gcd(a,b)"
   ]
  },
  {
   "cell_type": "code",
   "execution_count": 5,
   "id": "01aa24d8-f808-44cb-bd67-84bfc18da61a",
   "metadata": {},
   "outputs": [
    {
     "name": "stdout",
     "output_type": "stream",
     "text": [
      "2.75 µs ± 15.2 ns per loop (mean ± std. dev. of 7 runs, 100,000 loops each)\n",
      "210 ns ± 1.26 ns per loop (mean ± std. dev. of 7 runs, 1,000,000 loops each)\n"
     ]
    }
   ],
   "source": [
    "a = 432096703564398727687873102942153\n",
    "b = 3486798643987270967\n",
    "\n",
    "%timeit euclidean(a,b)\n",
    "%timeit gcd(a,b)"
   ]
  },
  {
   "cell_type": "code",
   "execution_count": 14,
   "id": "affae2ef-04bb-4e4c-be27-3dc5d5c6c7a1",
   "metadata": {},
   "outputs": [],
   "source": [
    "def extended_euclidean(a, b): # Broken\n",
    "    old_r, r = a, b\n",
    "    old_s, s = 1, 0\n",
    "    old_t, t = 0, 1\n",
    "    while r != 0:\n",
    "        q = old_r / r\n",
    "        old_r, r = r, old_r - q * r\n",
    "        old_s, s = s, old_s - q * s\n",
    "        old_t, t = t, old_t - q * t\n",
    "    # GCD, a, b\n",
    "    return (old_r, t, s)"
   ]
  },
  {
   "cell_type": "code",
   "execution_count": 15,
   "id": "9fda461f-625c-4d29-aeab-6900db555721",
   "metadata": {},
   "outputs": [
    {
     "data": {
      "text/plain": [
       "(11, -3/11, 1)"
      ]
     },
     "execution_count": 15,
     "metadata": {},
     "output_type": "execute_result"
    }
   ],
   "source": [
    "extended_euclidean(3,11)"
   ]
  },
  {
   "cell_type": "code",
   "execution_count": null,
   "id": "f9a20fb7-84b1-4383-9170-420a12b9cf21",
   "metadata": {},
   "outputs": [],
   "source": []
  }
 ],
 "metadata": {
  "kernelspec": {
   "display_name": "SageMath 10.1",
   "language": "sage",
   "name": "sagemath"
  },
  "language_info": {
   "codemirror_mode": {
    "name": "ipython",
    "version": 3
   },
   "file_extension": ".py",
   "mimetype": "text/x-python",
   "name": "python",
   "nbconvert_exporter": "python",
   "pygments_lexer": "ipython3",
   "version": "3.11.5"
  }
 },
 "nbformat": 4,
 "nbformat_minor": 5
}
