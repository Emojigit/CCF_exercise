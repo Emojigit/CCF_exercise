{
 "cells": [
  {
   "cell_type": "code",
   "execution_count": 1,
   "id": "c40c1e29-5c8e-4cbb-ae1d-bd01a28b1fc5",
   "metadata": {},
   "outputs": [],
   "source": [
    "import typing\n",
    "type_int = typing.Union[int,Integer]\n",
    "\n",
    "# Class of Feistel Ciphers\n",
    "class Feistel:\n",
    "    # This function should accept a key in bytearray.\n",
    "    # This function should preprocess the key, i.e. preparing the key schedule\n",
    "    def __init__(self, key: bytearray): pass\n",
    "\n",
    "    # This function is the function f.\n",
    "    # |    L    |   |    R    |\n",
    "    #      |             |\n",
    "    #     (+)--<-(f)--<--|\n",
    "    #      |             |\n",
    "    # |    R    |   |    L    |   (!) Swapped\n",
    "    # D: The data, either L or R, to be processed\n",
    "    # n: count of iterations. the first iteration have n=1. \n",
    "    #    (Not part of Feistel but nesserary to DES etc)\n",
    "    def f_func(self, D: bytearray, n: type_int) -> bytearray:\n",
    "        # Dummy function to not modify anything. THIS IS NOT ENCRYPTION!\n",
    "        return D\n",
    "\n",
    "    # This function prepares the initial permutation (IP).\n",
    "    # RTN: IP\n",
    "    def prepare_ip(self, DATA: bytearray) -> bytearray:\n",
    "        # Dummy function to not modify anything. THIS IS NOT ENCRYPTION!\n",
    "        return DATA\n",
    "\n",
    "    # This function defines an single encrypt interation.\n",
    "    # L: The upper half of the data. R: the rest\n",
    "    # n: count of iterations. the first iteration have n=1.\n",
    "    def encrypt_iteration(self, L: bytearray, R: bytearray, n: type_int) -> typing.Tuple[bytearray, bytearray]: \n",
    "        f_rtn = self.f_func(R, n)\n",
    "        processed = bytearray([L[i] ^^ f_rtn[i] for i in range(len(L))])\n",
    "        # L, R\n",
    "        return R, processed\n",
    "\n",
    "    # This function defines an single decrypt interation.\n",
    "    # L: The upper half of the data. R: the rest\n",
    "    # n: count of iterations (in their order of encryption). the first iteration have n=1.\n",
    "    def decrypt_iteration(self, L: bytearray, R: bytearray, n: type_int) -> typing.Tuple[bytearray, bytearray]: \n",
    "        f_rtn = self.f_func(L, n)\n",
    "        processed = bytearray([R[i] ^^ f_rtn[i] for i in range(len(L))])\n",
    "        # L, R\n",
    "        return processed, L\n",
    "\n",
    "    # Number of iterations to be done.\n",
    "    # This should be overriden by class definitions.\n",
    "    num_iterations = 16\n",
    "    \n",
    "    # This function is the encryption function.\n",
    "    # DATA: The data block to be encrypted.\n",
    "    # RTN: The ciphertext\n",
    "    def encrypt(self, DATA: bytearray):\n",
    "        len_data = len(DATA)\n",
    "        assert len_data % 2 == 0\n",
    "        half_len = int(len_data / 2)\n",
    "        DATA_IP = self.prepare_ip(DATA)\n",
    "        L,R = DATA[:half_len], DATA[half_len:]\n",
    "        for i in range(self.num_iterations):\n",
    "            L,R = self.encrypt_iteration(L,R,i+1)\n",
    "        return L + R\n",
    "\n",
    "    # This function is the decryption function.\n",
    "    # DATA: The data block to be decrypted.\n",
    "    # RTN: The plain text\n",
    "    def decrypt(self, DATA: bytearray):\n",
    "        len_data = len(DATA)\n",
    "        assert len_data % 2 == 0\n",
    "        half_len = int(len_data / 2)\n",
    "        DATA_IP = self.prepare_ip(DATA)\n",
    "        L,R = DATA[:half_len], DATA[half_len:]\n",
    "        for i in range(self.num_iterations):\n",
    "            L,R = self.decrypt_iteration(L,R,self.num_iterations - i)\n",
    "        return L + R"
   ]
  },
  {
   "cell_type": "code",
   "execution_count": 2,
   "id": "9a815db3-5b31-4fea-b695-bf34ab03ba63",
   "metadata": {},
   "outputs": [],
   "source": [
    "# Convert bytearray to sth like FF FA 01 BB\n",
    "def bytearray_to_readable(btarr):\n",
    "    return \" \".join([hex(b)[2:].upper().zfill(2) for b in btarr])"
   ]
  },
  {
   "cell_type": "code",
   "execution_count": 3,
   "id": "55d26740-9e95-4be5-bc80-a281662d5d0c",
   "metadata": {},
   "outputs": [
    {
     "name": "stdout",
     "output_type": "stream",
     "text": [
      "We are discovered, safe yourself.. 57 65 20 61 72 65 20 64 69 73 63 6F 76 65 72 65 64 2C 20 73 61 66 65 20 79 6F 75 72 73 65 6C 66 2E 2E\n",
      "2C 20 73 61 66 65 20 79 6F 75 72 73 65 6C 66 2E 2E 7B 45 53 00 14 00 00 1D 06 06 11 1C 13 09 14 4B 4A\n",
      "We are discovered, safe yourself.. 57 65 20 61 72 65 20 64 69 73 63 6F 76 65 72 65 64 2C 20 73 61 66 65 20 79 6F 75 72 73 65 6C 66 2E 2E\n"
     ]
    }
   ],
   "source": [
    "fei = Feistel(bytearray())\n",
    "\n",
    "m = \"We are discovered, safe yourself..\"\n",
    "m_btarr = bytearray(m,encoding=\"ascii\")\n",
    "c = fei.encrypt(m_btarr)\n",
    "rtn_m_btarr = fei.decrypt(c)\n",
    "rtn_m = rtn_m_btarr.decode(encoding=\"ascii\")\n",
    "\n",
    "print(m,bytearray_to_readable(m_btarr))\n",
    "print(bytearray_to_readable(c))\n",
    "print(rtn_m,bytearray_to_readable(rtn_m_btarr))"
   ]
  }
 ],
 "metadata": {
  "kernelspec": {
   "display_name": "SageMath 10.0",
   "language": "sage",
   "name": "sagemath"
  },
  "language_info": {
   "codemirror_mode": {
    "name": "ipython",
    "version": 3
   },
   "file_extension": ".py",
   "mimetype": "text/x-python",
   "name": "python",
   "nbconvert_exporter": "python",
   "pygments_lexer": "ipython3",
   "version": "3.11.3"
  }
 },
 "nbformat": 4,
 "nbformat_minor": 5
}
