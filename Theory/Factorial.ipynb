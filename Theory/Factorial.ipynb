{
 "cells": [
  {
   "cell_type": "code",
   "execution_count": 1,
   "id": "f390e155-c39c-4ba4-9e2d-f215eac4e181",
   "metadata": {},
   "outputs": [],
   "source": [
    "from numpy import prod\n",
    "import math"
   ]
  },
  {
   "cell_type": "code",
   "execution_count": 2,
   "id": "09c218d8-3444-4de7-8052-0f9091e56ee3",
   "metadata": {},
   "outputs": [],
   "source": [
    "def factorial(n: int):\n",
    "    assert n >= 1\n",
    "    if n == 1: return 1\n",
    "    num = 2\n",
    "    for i in range(3,n+1):\n",
    "        num *= i\n",
    "    return num"
   ]
  },
  {
   "cell_type": "code",
   "execution_count": 3,
   "id": "3308d9c9-c6f1-4a55-88b4-546938b923cc",
   "metadata": {},
   "outputs": [],
   "source": [
    "def factorial_nocheck(n: int):\n",
    "    assert n >= 1\n",
    "    num = 1\n",
    "    for i in range(2,n+1):\n",
    "        num *= i\n",
    "    return num"
   ]
  },
  {
   "cell_type": "code",
   "execution_count": 4,
   "id": "d500049e-8d6b-44a9-a909-8c9c21643390",
   "metadata": {},
   "outputs": [],
   "source": [
    "def factorial_recursion(n: int):\n",
    "    assert n >= 1\n",
    "    if n == 1: return 1\n",
    "    return n * factorial_recursion(n - 1)"
   ]
  },
  {
   "cell_type": "code",
   "execution_count": 5,
   "id": "b296688a-a42e-425e-bb12-c0a150560fa0",
   "metadata": {},
   "outputs": [
    {
     "name": "stdout",
     "output_type": "stream",
     "text": [
      "Equal? True\n"
     ]
    }
   ],
   "source": [
    "print(\"Equal?\",factorial(20)==math.factorial(20))"
   ]
  },
  {
   "cell_type": "code",
   "execution_count": 6,
   "id": "bd4ab572-05cd-4053-9c94-9b0e2302c9f7",
   "metadata": {},
   "outputs": [],
   "source": [
    "# Tried i = 1200, it burns"
   ]
  },
  {
   "cell_type": "code",
   "execution_count": 7,
   "id": "ce689d56-1634-40d7-948b-ed29f1fdc7bd",
   "metadata": {},
   "outputs": [
    {
     "name": "stdout",
     "output_type": "stream",
     "text": [
      "99.8 µs ± 1.68 µs per loop (mean ± std. dev. of 7 runs, 10,000 loops each)\n",
      "98.5 µs ± 261 ns per loop (mean ± std. dev. of 7 runs, 10,000 loops each)\n",
      "196 µs ± 588 ns per loop (mean ± std. dev. of 7 runs, 10,000 loops each)\n",
      "20.3 µs ± 211 ns per loop (mean ± std. dev. of 7 runs, 10,000 loops each)\n"
     ]
    }
   ],
   "source": [
    "i = 1000\n",
    "\n",
    "%timeit -n 10000 factorial(i)\n",
    "\n",
    "%timeit -n 10000 factorial_nocheck(i)\n",
    "\n",
    "%timeit -n 10000 factorial_recursion(i)\n",
    "\n",
    "%timeit -n 10000 math.factorial(i)"
   ]
  },
  {
   "cell_type": "code",
   "execution_count": 8,
   "id": "cb8d5a5b-9df2-4e86-a4e4-33227bde5122",
   "metadata": {},
   "outputs": [
    {
     "name": "stdout",
     "output_type": "stream",
     "text": [
      "2.89 µs ± 53.1 ns per loop (mean ± std. dev. of 7 runs, 10,000 loops each)\n",
      "2.82 µs ± 27.5 ns per loop (mean ± std. dev. of 7 runs, 10,000 loops each)\n",
      "4.76 µs ± 22 ns per loop (mean ± std. dev. of 7 runs, 10,000 loops each)\n",
      "407 ns ± 12.4 ns per loop (mean ± std. dev. of 7 runs, 10,000 loops each)\n"
     ]
    }
   ],
   "source": [
    "i = 100\n",
    "\n",
    "%timeit -n 10000 factorial(i)\n",
    "\n",
    "%timeit -n 10000 factorial_nocheck(i)\n",
    "\n",
    "%timeit -n 10000 factorial_recursion(i)\n",
    "\n",
    "%timeit -n 10000 math.factorial(i)"
   ]
  },
  {
   "cell_type": "code",
   "execution_count": 9,
   "id": "005848ea-7cec-4541-997d-69a04261f3a6",
   "metadata": {},
   "outputs": [
    {
     "name": "stdout",
     "output_type": "stream",
     "text": [
      "453 ns ± 14.7 ns per loop (mean ± std. dev. of 7 runs, 10,000 loops each)\n",
      "450 ns ± 18.6 ns per loop (mean ± std. dev. of 7 runs, 10,000 loops each)\n",
      "826 ns ± 2.09 ns per loop (mean ± std. dev. of 7 runs, 10,000 loops each)\n",
      "23.4 ns ± 0.925 ns per loop (mean ± std. dev. of 7 runs, 10,000 loops each)\n"
     ]
    }
   ],
   "source": [
    "i = 20\n",
    "\n",
    "%timeit -n 10000 factorial(i)\n",
    "\n",
    "%timeit -n 10000 factorial_nocheck(i)\n",
    "\n",
    "%timeit -n 10000 factorial_recursion(i)\n",
    "\n",
    "%timeit -n 10000 math.factorial(i)"
   ]
  },
  {
   "cell_type": "code",
   "execution_count": 10,
   "id": "3e4decdd-65c7-47b9-9973-fa04089526c0",
   "metadata": {},
   "outputs": [
    {
     "name": "stdout",
     "output_type": "stream",
     "text": [
      "121 ns ± 17 ns per loop (mean ± std. dev. of 7 runs, 10,000 loops each)\n",
      "129 ns ± 6.55 ns per loop (mean ± std. dev. of 7 runs, 10,000 loops each)\n",
      "106 ns ± 2.98 ns per loop (mean ± std. dev. of 7 runs, 10,000 loops each)\n",
      "19.8 ns ± 0.322 ns per loop (mean ± std. dev. of 7 runs, 10,000 loops each)\n"
     ]
    }
   ],
   "source": [
    "i = 3\n",
    "\n",
    "%timeit -n 10000 factorial(i)\n",
    "\n",
    "%timeit -n 10000 factorial_nocheck(i)\n",
    "\n",
    "%timeit -n 10000 factorial_recursion(i)\n",
    "\n",
    "%timeit -n 10000 math.factorial(i)"
   ]
  },
  {
   "cell_type": "code",
   "execution_count": 11,
   "id": "7cd157bc-abbc-491c-b8e5-abc84d03ec73",
   "metadata": {},
   "outputs": [],
   "source": [
    "# Don't be racing with C functions."
   ]
  },
  {
   "cell_type": "code",
   "execution_count": null,
   "id": "d09aead6-1291-4220-b7c7-f546ce4edff6",
   "metadata": {},
   "outputs": [],
   "source": []
  }
 ],
 "metadata": {
  "kernelspec": {
   "display_name": "Python 3 (ipykernel)",
   "language": "python",
   "name": "python3"
  },
  "language_info": {
   "codemirror_mode": {
    "name": "ipython",
    "version": 3
   },
   "file_extension": ".py",
   "mimetype": "text/x-python",
   "name": "python",
   "nbconvert_exporter": "python",
   "pygments_lexer": "ipython3",
   "version": "3.11.5"
  }
 },
 "nbformat": 4,
 "nbformat_minor": 5
}
