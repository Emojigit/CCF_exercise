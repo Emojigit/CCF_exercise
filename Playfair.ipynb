{
 "cells": [
  {
   "cell_type": "code",
   "execution_count": 1,
   "id": "d9fbb128",
   "metadata": {},
   "outputs": [],
   "source": [
    "from string import ascii_lowercase as alpha\n",
    "\n",
    "def index_to_pos(index):\n",
    "    return [floor(index/5),index%5]\n",
    "\n",
    "def pos_to_index(pos):\n",
    "    return ((pos[0] * 5) + pos[1])%25\n",
    "\n",
    "def crypt_logic(mtx,key_mtx,mup):\n",
    "    txt = \"\"\n",
    "    for pair in mtx:\n",
    "        val0_index = key_mtx.index(pair[0])\n",
    "        val1_index = key_mtx.index(pair[1])\n",
    "        # POS: [row,column]\n",
    "        val0_pos = index_to_pos(val0_index)\n",
    "        val1_pos = index_to_pos(val1_index)\n",
    "        if val0_pos[0] == val1_pos[0]:\n",
    "            txt += key_mtx[pos_to_index([(val0_pos[0]+(1*mup))%5,val0_pos[1]])]\n",
    "            txt += key_mtx[pos_to_index([(val1_pos[0]+(1*mup))%5,val1_pos[1]])]\n",
    "        elif val0_pos[1] == val1_pos[1]:\n",
    "            txt += key_mtx[pos_to_index([val0_pos[0],(val0_pos[1]+(5*mup))%25])]\n",
    "            txt += key_mtx[pos_to_index([val1_pos[0],(val1_pos[1]+(5*mup))%25])]\n",
    "        else:\n",
    "            txt += key_mtx[pos_to_index([val0_pos[0],val1_pos[1]])]\n",
    "            txt += key_mtx[pos_to_index([val1_pos[0],val0_pos[1]])]\n",
    "    return txt\n",
    "\n",
    "class Playfair:\n",
    "    def __init__(self,key=\"\"):\n",
    "        key = key.lower()\n",
    "        self.key_mtx = []\n",
    "        for c in (key + alpha):\n",
    "            if c == \"j\": c = \"i\"\n",
    "            if c not in self.key_mtx: self.key_mtx.append(c)\n",
    "    def encrypt(self,m):\n",
    "        # Prepare the message\n",
    "        m_list = [c for c in m.lower() if c in alpha]\n",
    "        i = 0\n",
    "        while i < len(m_list):\n",
    "            if len(m_list) == i+1 or m_list[i] == m_list[i+1]:\n",
    "                if m_list[i] == \"x\":\n",
    "                    m_list.insert(i+1,\"z\")\n",
    "                else:\n",
    "                    m_list.insert(i+1,\"x\")\n",
    "            i += 2\n",
    "        m_mtx = [[m_list[i],m_list[i+1]] for i in range(0,len(m_list),2)]\n",
    "        # Encrypting\n",
    "        return crypt_logic(m_mtx,self.key_mtx,1)\n",
    "    def decrypt(self,c):\n",
    "        c_list = [char for char in c.lower() if char in alpha]\n",
    "        c_mtx = [[c_list[i],c_list[i+1]] for i in range(0,len(c_list),2)]\n",
    "        return crypt_logic(c_mtx,self.key_mtx,-1)\n",
    "        "
   ]
  },
  {
   "cell_type": "code",
   "execution_count": 2,
   "id": "bd44ba53",
   "metadata": {},
   "outputs": [
    {
     "name": "stdout",
     "output_type": "stream",
     "text": [
      "25\n",
      "MEET PRIME MINISTER AFTER DINNER\n",
      "clkltoealcgasxlkdbkpkmbkawmgaz\n",
      "meetprimeministerafterdinxnerx\n"
     ]
    }
   ],
   "source": [
    "pf = Playfair(\"MONARCHY\")\n",
    "print(len(pf.key_mtx))\n",
    "m = \"MEET PRIME MINISTER AFTER DINNER\"\n",
    "c = pf.encrypt(m)\n",
    "rtn_m = pf.decrypt(c)\n",
    "\n",
    "print(m)\n",
    "print(c)\n",
    "print(rtn_m)"
   ]
  },
  {
   "cell_type": "code",
   "execution_count": null,
   "id": "aa1d904f",
   "metadata": {},
   "outputs": [],
   "source": []
  }
 ],
 "metadata": {
  "kernelspec": {
   "display_name": "SageMath 10.0",
   "language": "sage",
   "name": "sagemath"
  },
  "language_info": {
   "codemirror_mode": {
    "name": "ipython",
    "version": 3
   },
   "file_extension": ".py",
   "mimetype": "text/x-python",
   "name": "python",
   "nbconvert_exporter": "python",
   "pygments_lexer": "ipython3",
   "version": "3.11.3"
  }
 },
 "nbformat": 4,
 "nbformat_minor": 5
}
