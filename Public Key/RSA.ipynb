{
 "cells": [
  {
   "cell_type": "code",
   "execution_count": 1,
   "id": "314cfe2f",
   "metadata": {},
   "outputs": [],
   "source": [
    "import random\n",
    "\n",
    "class RSA:\n",
    "    def __init__(self):\n",
    "        # p,q are private\n",
    "        self.p = random_prime(100000000,lbound=100000)\n",
    "        self.q = random_prime(100000000,lbound=100000)\n",
    "        \n",
    "        # n is public\n",
    "        self.n = self.p * self.q\n",
    "        self.key_length = self.n.nbits()\n",
    "        \n",
    "        #  Carmichael's totient function(n)\n",
    "        # ln is secret\n",
    "        self.ln = lcm(self.p-1,self.q-1)\n",
    "        \n",
    "        # e is public\n",
    "        # e, ln are coprime\n",
    "        self.e = random.choice(self.ln.coprime_integers(self.ln))\n",
    "        \n",
    "        # d ≡ e−1 (mod λ(n))\n",
    "        #  a x + b y = gcd ( a , b ) . \n",
    "        # d is private\n",
    "        g, x, y = xgcd(self.e,self.ln)\n",
    "        self.d = x\n",
    "    def get_public(self):\n",
    "        return {\n",
    "            'n': self.n,\n",
    "            'e': self.e\n",
    "        }\n",
    "    def get_private(self):\n",
    "        return {\n",
    "            'p': self.p,\n",
    "            'q': self.q,\n",
    "            'ln': self.ln,\n",
    "            'd': self.d\n",
    "        }\n",
    "    def encrypt(self,m):\n",
    "        c = (m ** self.e) % self.n\n",
    "        return c\n",
    "    def decrypt(self,c):\n",
    "        m = (c ** self.d) % self.n\n",
    "        return m"
   ]
  },
  {
   "cell_type": "code",
   "execution_count": null,
   "id": "3cff24e2",
   "metadata": {},
   "outputs": [],
   "source": [
    "r = RSA()\n",
    "print(r)\n",
    "print(r.get_public())\n",
    "print(r.get_private())"
   ]
  },
  {
   "cell_type": "code",
   "execution_count": null,
   "id": "f3836697",
   "metadata": {},
   "outputs": [],
   "source": [
    "c = r.encrypt(1024)\n",
    "print(c)"
   ]
  },
  {
   "cell_type": "code",
   "execution_count": null,
   "id": "90bc3b6e",
   "metadata": {},
   "outputs": [],
   "source": []
  }
 ],
 "metadata": {
  "kernelspec": {
   "display_name": "SageMath 10.0",
   "language": "sage",
   "name": "sagemath"
  },
  "language_info": {
   "codemirror_mode": {
    "name": "ipython",
    "version": 3
   },
   "file_extension": ".py",
   "mimetype": "text/x-python",
   "name": "python",
   "nbconvert_exporter": "python",
   "pygments_lexer": "ipython3",
   "version": "3.11.3"
  }
 },
 "nbformat": 4,
 "nbformat_minor": 5
}
