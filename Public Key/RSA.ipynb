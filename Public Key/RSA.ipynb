{
 "cells": [
  {
   "cell_type": "raw",
   "id": "c763bd59-a241-4634-b400-ba44aca1425a",
   "metadata": {},
   "source": [
    "RSA_ciphertext(ciphertext): Helper class for easier operation on RSA ciphertexts\n",
    "- decrypt(privkey): Decrypt the ciphertext with the given private key.\n",
    "\n",
    "RSA_privkey(n, d): Represents an RSA private key.\n",
    "- decrypt(ciphertext): Decrypt or sign the given ciphertext with the private key.\n",
    "\n",
    "RSA_pubkey(n, e): Represents an RSA public key.\n",
    "- encrypt(plaintext): Encrypt or verify the given plaintext with the public key.\n",
    "\n",
    "RSA_keypair(n, e, d): Represents both RSA private and public key.\n",
    "- privkey: The private key.\n",
    "- pubkey: The public key.\n",
    "- encrypt(plaintext): Encrypt or verify the given plaintext with the public key.\n",
    "- decrypt(ciphertext): Decrypt or sign the given ciphertext with the private key.\n",
    "- generate_keypair(bit_len): Generate a new RSA keypair with the given length for n."
   ]
  },
  {
   "cell_type": "code",
   "execution_count": 1,
   "id": "ac7c08bf-2013-4f6b-8cd9-f645b3109fd3",
   "metadata": {},
   "outputs": [],
   "source": [
    "from dataclasses import dataclass"
   ]
  },
  {
   "cell_type": "code",
   "execution_count": 2,
   "id": "5dd7be85-aa03-4d34-8620-f6afd6e9b84d",
   "metadata": {},
   "outputs": [],
   "source": [
    "class RSA_ciphertext(int):\n",
    "    def decrypt(self, privkey):\n",
    "        return privkey.decrypt(self)"
   ]
  },
  {
   "cell_type": "code",
   "execution_count": 3,
   "id": "0d7538ab-c9b5-443c-ae6e-2e04cf1e55cc",
   "metadata": {},
   "outputs": [],
   "source": [
    "@dataclass(frozen=True)\n",
    "class RSA_privkey:\n",
    "    n: int\n",
    "    d: int\n",
    "\n",
    "    def __str__(self):\n",
    "        f = \"<RSA private key, n={}, d={}>\"\n",
    "        return f.format(self.n, self.d)\n",
    "\n",
    "    def decrypt(self, C):\n",
    "        # M = C^d mod n\n",
    "        M = power_mod(C, self.d, self.n)\n",
    "        return M"
   ]
  },
  {
   "cell_type": "code",
   "execution_count": 4,
   "id": "7490dcb1-0ac7-45c7-8985-fe1fc48ccccc",
   "metadata": {},
   "outputs": [],
   "source": [
    "@dataclass(frozen=True)\n",
    "class RSA_pubkey:\n",
    "    n: int\n",
    "    e: int\n",
    "    \n",
    "    def __str__(self):\n",
    "        f = \"<RSA public key, n={}, e={}>\"\n",
    "        return f.format(self.n, self.e)\n",
    "\n",
    "    def encrypt(self, C):\n",
    "        # M = C^d mod n\n",
    "        M = power_mod(C, self.e, self.n)\n",
    "        return RSA_ciphertext(M)"
   ]
  },
  {
   "cell_type": "code",
   "execution_count": 5,
   "id": "5f58201e-6257-4888-9ce2-b6c3471cbfdb",
   "metadata": {},
   "outputs": [],
   "source": [
    "class RSA_keypair:\n",
    "    def __init__(self, n, e, d):\n",
    "        self.privkey = RSA_privkey(n, d)\n",
    "        self.pubkey  = RSA_pubkey(n, e)\n",
    "\n",
    "    def __str__(self):\n",
    "        f = \"<RSA keypair, n={}, e={}, d={}>\"\n",
    "        return f.format(self.pubkey.n, self.pubkey.e, self.privkey.d)\n",
    "\n",
    "    def encrypt(self, M):\n",
    "        return self.pubkey.encrypt(M)\n",
    "\n",
    "    def decrypt(self, C):\n",
    "        return self.privkey.decrypt(C)\n",
    "\n",
    "    @staticmethod\n",
    "    def get_prime(n):\n",
    "        return random_prime(2^n-1, lbound = 2^(n-1))\n",
    "    \n",
    "    @staticmethod\n",
    "    def generate_primes(bit_len):\n",
    "        assert bit_len.is_integer()\n",
    "        bit_len_p = bit_len // 2\n",
    "        while True:\n",
    "            p, q = RSA_keypair.get_prime(bit_len_p), RSA_keypair.get_prime(bit_len_p)\n",
    "            n = (p * q)\n",
    "            if n.nbits() == bit_len:\n",
    "                return n, p, q\n",
    "\n",
    "    @staticmethod\n",
    "    def compute_phi(p, q):\n",
    "        return (p - 1) * (q - 1)\n",
    "\n",
    "    @staticmethod\n",
    "    def generate_pub_exponent(phi):\n",
    "        while True:\n",
    "            # Generate random number within the range\n",
    "            i = ZZ.random_element(1, phi)\n",
    "            # Check whether they are coprime\n",
    "            if gcd(i, phi) == 1: return i\n",
    "\n",
    "    @staticmethod\n",
    "    def generate_keypair(bit_len):\n",
    "        n, p, q = RSA_keypair.generate_primes(bit_len)\n",
    "        phi = RSA_keypair.compute_phi(p, q)\n",
    "        e = RSA_keypair.generate_pub_exponent(phi)\n",
    "        d = e.inverse_mod(phi)\n",
    "\n",
    "        return RSA_keypair(n, e, d)\n",
    "\n",
    "    def copy(self):\n",
    "        return RSA_keypair(self.privkey.n, self.pubkey.e, self.privkey.d)\n",
    "\n",
    "    def __eq__(self, o):\n",
    "        if type(self) is not type(o): return False\n",
    "        return self.privkey == o.privkey and self.pubkey == o.pubkey"
   ]
  },
  {
   "cell_type": "code",
   "execution_count": 6,
   "id": "148939be-b2b9-44d7-854f-8addd9630b9c",
   "metadata": {},
   "outputs": [],
   "source": [
    "def RSA_decrypt(pubkey: RSA_pubkey, C): # Also for verifying\n",
    "    return pubkey.decrypt(C)"
   ]
  },
  {
   "cell_type": "code",
   "execution_count": 7,
   "id": "f25aaf1e-7c57-4306-92a6-9ecd554d0b9b",
   "metadata": {},
   "outputs": [],
   "source": [
    "def RSA_encrypt(privkey: RSA_privkey, M): # Also for signing\n",
    "    return privkey.encrypt(M)"
   ]
  },
  {
   "cell_type": "code",
   "execution_count": null,
   "id": "3e114197-208b-48fa-b15a-3e6265d813a8",
   "metadata": {},
   "outputs": [],
   "source": []
  },
  {
   "cell_type": "raw",
   "id": "3b23b077-430e-49c9-91a2-0f3ca3e16678",
   "metadata": {},
   "source": [
    "Entrypting using random key"
   ]
  },
  {
   "cell_type": "code",
   "execution_count": 8,
   "id": "3425255c-4649-4fb1-aacd-1d02684968d0",
   "metadata": {},
   "outputs": [
    {
     "name": "stdout",
     "output_type": "stream",
     "text": [
      "<RSA keypair, n=93055235755485178753226805143040838545110747981516895322460573060591152192691978547418692180147068111022790587772189748270313374447771624275355776562612352267109160700177129188270923453583591533650131230489937225436452352929026310122215267823367515337908275841976584969188876196955763449820668542835945952247, e=23622495472290752856813499932916134942024906779271989665328339105703119200077100457992157234345082856604030357553767225497936582400480154714457225333867280855461327627969488764928627252164220566940913419200584668732982981510765330069345428359652043054641486347249010669277236272903327635439560171014761228423, d=70816963164410526359144616356863884325908335908274104921416675391810491366716137685944232615376148687234229271360842898066729143888884376204280121855119137461563442615050413313804992209727043385337317418301886951622481677001530730532571212090275513368995706465579218509751450343580364875344043358433502386687>\n",
      "\n",
      "<RSA private key, n=93055235755485178753226805143040838545110747981516895322460573060591152192691978547418692180147068111022790587772189748270313374447771624275355776562612352267109160700177129188270923453583591533650131230489937225436452352929026310122215267823367515337908275841976584969188876196955763449820668542835945952247, d=70816963164410526359144616356863884325908335908274104921416675391810491366716137685944232615376148687234229271360842898066729143888884376204280121855119137461563442615050413313804992209727043385337317418301886951622481677001530730532571212090275513368995706465579218509751450343580364875344043358433502386687>\n",
      "\n",
      "<RSA public key, n=93055235755485178753226805143040838545110747981516895322460573060591152192691978547418692180147068111022790587772189748270313374447771624275355776562612352267109160700177129188270923453583591533650131230489937225436452352929026310122215267823367515337908275841976584969188876196955763449820668542835945952247, e=23622495472290752856813499932916134942024906779271989665328339105703119200077100457992157234345082856604030357553767225497936582400480154714457225333867280855461327627969488764928627252164220566940913419200584668732982981510765330069345428359652043054641486347249010669277236272903327635439560171014761228423>\n",
      "\n",
      "True\n"
     ]
    }
   ],
   "source": [
    "keypair = RSA_keypair.generate_keypair(1024)\n",
    "print(keypair)\n",
    "print()\n",
    "print(keypair.privkey)\n",
    "print()\n",
    "print(keypair.pubkey)\n",
    "print()\n",
    "print(keypair == keypair.copy())"
   ]
  },
  {
   "cell_type": "code",
   "execution_count": 9,
   "id": "3a738e19-444e-464f-aba1-33f0806dfb18",
   "metadata": {},
   "outputs": [
    {
     "name": "stdout",
     "output_type": "stream",
     "text": [
      "89826722421361346700895828258163578762478696813885160691928226872788289247596377655723587868782720184016928168050626542589947221338385947360393343247058451408780116577087080524185105834416453054465008714739777745274120410034116656794165530362305554299999860316877340609131887595899059043341897309256394903653\n",
      "123456789123456789\n"
     ]
    }
   ],
   "source": [
    "M = 123456789123456789\n",
    "C = RSA_encrypt(keypair,M); print(C)\n",
    "M_c = C.decrypt(keypair); print(M_c)"
   ]
  },
  {
   "cell_type": "code",
   "execution_count": 10,
   "id": "9297d255-a24f-43f3-8dbd-0a24b8ca84be",
   "metadata": {},
   "outputs": [
    {
     "name": "stdout",
     "output_type": "stream",
     "text": [
      "56775997254740747296269292454607774072530313452752346323466315745621913683421375252902080341746182422245638594952841894099926703896819848889390465729614766544175461066168829805951289748394168060376919109723832336424130226085963635496273066540166767036245316223168385159613389282291180536216914888814117561070\n",
      "123456789123456789\n"
     ]
    }
   ],
   "source": [
    "S = RSA_decrypt(keypair, M); print(S)\n",
    "M_s = RSA_encrypt(keypair, S); print(M_s)"
   ]
  },
  {
   "cell_type": "code",
   "execution_count": 11,
   "id": "b7ea0c7e-d8a8-4a02-8d0a-cc259956a088",
   "metadata": {},
   "outputs": [],
   "source": [
    "def string2dec(s):                                 # convert message to dec equivalent unicode\n",
    "    s = [ord(x) for x in s]\n",
    "    dec = ZZ(list(reversed(s)), 100)\n",
    "    return dec"
   ]
  },
  {
   "cell_type": "code",
   "execution_count": 12,
   "id": "f91e9a64-7768-4cc4-9e77-afa56ee51186",
   "metadata": {},
   "outputs": [],
   "source": [
    "def dec2string(dec):                               # convert dec unicodes to string\n",
    "    s=\"\"\n",
    "    c=str(dec)\n",
    "    for i in range(0, len(c),2):\n",
    "        s+=chr(int(c[i]+c[i+1]))\n",
    "    return s"
   ]
  },
  {
   "cell_type": "raw",
   "id": "f81931d5-8127-4997-b00a-d04aadf7bf73",
   "metadata": {},
   "source": [
    "2. Using RSA cryptosystem perform the following:\n",
    "\n",
    "a.) Encrypt the plaintext P=\"THISCOURSEISSWEET\" with the public key (e,n)\n",
    "\n",
    "e=64255123840400920899027594472669379991947555233276781048024250446814302724731106766756339951840237250101891004978212772044383279733379388530493970046211716642208132967525408001754737474165048819205940814225563670212428223096158964837385053632266056026180373587399129459500483194485061624816719090524042421763\n",
    "\n",
    "n=97317137949299047329422751336372219280650918523616703697935791230362792144624081367345766809355055092002612176057390521301555357528750568302355710548072008293590338833400582094378987467323239514677249799942761914148058633598699435756505298231622102909631623964850403359198735122550801625741661325980099678879\n"
   ]
  },
  {
   "cell_type": "code",
   "execution_count": 13,
   "id": "44d6a76b-3f62-42c7-a0db-43554a75138a",
   "metadata": {},
   "outputs": [
    {
     "name": "stdout",
     "output_type": "stream",
     "text": [
      "8472738367798582836973838387696984\n",
      "<RSA public key, n=97317137949299047329422751336372219280650918523616703697935791230362792144624081367345766809355055092002612176057390521301555357528750568302355710548072008293590338833400582094378987467323239514677249799942761914148058633598699435756505298231622102909631623964850403359198735122550801625741661325980099678879, e=64255123840400920899027594472669379991947555233276781048024250446814302724731106766756339951840237250101891004978212772044383279733379388530493970046211716642208132967525408001754737474165048819205940814225563670212428223096158964837385053632266056026180373587399129459500483194485061624816719090524042421763>\n",
      "45802885872367657549213178380006301502138720370213810531132025668005540883787882774946139136181409067259858049117360643127831821207406493759858753338563689190380814363291261529979642104897059794938648015368095497654619656703595179296045321636341472406497303938729706422733188523020840238932171954010584687880\n"
     ]
    }
   ],
   "source": [
    "M = string2dec(\"THISCOURSEISSWEET\"); print(M)\n",
    "e=64255123840400920899027594472669379991947555233276781048024250446814302724731106766756339951840237250101891004978212772044383279733379388530493970046211716642208132967525408001754737474165048819205940814225563670212428223096158964837385053632266056026180373587399129459500483194485061624816719090524042421763\n",
    "n=97317137949299047329422751336372219280650918523616703697935791230362792144624081367345766809355055092002612176057390521301555357528750568302355710548072008293590338833400582094378987467323239514677249799942761914148058633598699435756505298231622102909631623964850403359198735122550801625741661325980099678879\n",
    "pubkey = RSA_pubkey(n, e); print(pubkey)\n",
    "C = RSA_encrypt(pubkey, M); print(C)"
   ]
  },
  {
   "cell_type": "raw",
   "id": "2617fdbd-5ce8-4f88-acf5-4cce03b82a69",
   "metadata": {},
   "source": [
    "b.) Decrypt back the ciphertext in a.) if the corresponding private key (d) is\n",
    "\n",
    "d=38628517638999333063216959102132463426514345770457464811914738192908607073140435869189633977768965549270823189579079802564639670293889500507465958035425848348439059951225925511151287285978292921440075521027353133263853532819549925542203782016026084991222393450728182950755020367214717128389736568387727954523"
   ]
  },
  {
   "cell_type": "code",
   "execution_count": 14,
   "id": "1515c2fb-1281-470a-8ad2-25533c1613b8",
   "metadata": {},
   "outputs": [
    {
     "name": "stdout",
     "output_type": "stream",
     "text": [
      "8472738367798582836973838387696984\n",
      "THISCOURSEISSWEET\n"
     ]
    }
   ],
   "source": [
    "d=38628517638999333063216959102132463426514345770457464811914738192908607073140435869189633977768965549270823189579079802564639670293889500507465958035425848348439059951225925511151287285978292921440075521027353133263853532819549925542203782016026084991222393450728182950755020367214717128389736568387727954523\n",
    "privkey = RSA_privkey(n, d)\n",
    "M_c = RSA_decrypt(privkey, C); print(M_c)\n",
    "print(dec2string(M_c))"
   ]
  },
  {
   "cell_type": "raw",
   "id": "2ac4fc73-f36a-403b-8604-00795a595358",
   "metadata": {},
   "source": [
    "3. Use Sage to answer a.) and b.)\n",
    "\n",
    "a.) As an EE student, you intercepted the score sheet for EE5815 in which each\n",
    "student's score was encrypted using RSA with the TA's public key (e=17, n=209).\n",
    "Use the RSA's malleability, to double your score if the encrypted value against\n",
    "your name is 178.\n",
    "\n",
    "b.) Prove if your alteration is correct by decrypting the originally recorded\n",
    "encrypted score and your modified score.[Take the TA's private key as (d=53)]"
   ]
  },
  {
   "cell_type": "code",
   "execution_count": 15,
   "id": "ff68e33a-51fd-4e8d-ac15-a29887d06ff4",
   "metadata": {},
   "outputs": [
    {
     "name": "stdout",
     "output_type": "stream",
     "text": [
      "<RSA keypair, n=209, e=17, d=53>\n"
     ]
    }
   ],
   "source": [
    "keypair = RSA_keypair(209, 17, 53); print(keypair)\n",
    "privkey = keypair.privkey\n",
    "pubkey  = keypair.pubkey"
   ]
  },
  {
   "cell_type": "code",
   "execution_count": 16,
   "id": "b690abca-8f16-4abf-bb65-0d11fcf0184f",
   "metadata": {},
   "outputs": [
    {
     "name": "stdout",
     "output_type": "stream",
     "text": [
      "178\n"
     ]
    }
   ],
   "source": [
    "M = 30\n",
    "C = RSA_encrypt(pubkey, M); print(C)"
   ]
  },
  {
   "cell_type": "code",
   "execution_count": 17,
   "id": "f20b14a8-0aaa-477b-87c0-00248cc6ff0b",
   "metadata": {},
   "outputs": [
    {
     "name": "stdout",
     "output_type": "stream",
     "text": [
      "146\n",
      "205\n"
     ]
    }
   ],
   "source": [
    "C_mul2 = mod(C*(2^pubkey.e), pubkey.n); print(C_mul2)\n",
    "C_mul3 = mod(C*(3^pubkey.e), pubkey.n); print(C_mul3)"
   ]
  },
  {
   "cell_type": "code",
   "execution_count": 18,
   "id": "f79f475c-3ab5-447b-a1a7-ebe28bbb629d",
   "metadata": {},
   "outputs": [
    {
     "name": "stdout",
     "output_type": "stream",
     "text": [
      "30\n",
      "60\n",
      "90\n"
     ]
    }
   ],
   "source": [
    "M_c = RSA_decrypt(privkey, C); print(M_c)\n",
    "M_mul2 = RSA_decrypt(privkey, C_mul2); print(M_mul2)\n",
    "M_mul3 = RSA_decrypt(privkey, C_mul3); print(M_mul3)"
   ]
  },
  {
   "cell_type": "code",
   "execution_count": null,
   "id": "3d6ce5b3-b528-42f9-b4a8-ce973d28ceb7",
   "metadata": {},
   "outputs": [],
   "source": []
  }
 ],
 "metadata": {
  "kernelspec": {
   "display_name": "SageMath 10.1",
   "language": "sage",
   "name": "sagemath"
  },
  "language_info": {
   "codemirror_mode": {
    "name": "ipython",
    "version": 3
   },
   "file_extension": ".py",
   "mimetype": "text/x-python",
   "name": "python",
   "nbconvert_exporter": "python",
   "pygments_lexer": "ipython3",
   "version": "3.11.5"
  }
 },
 "nbformat": 4,
 "nbformat_minor": 5
}
