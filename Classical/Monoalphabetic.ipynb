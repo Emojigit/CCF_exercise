{
 "cells": [
  {
   "cell_type": "code",
   "execution_count": 1,
   "id": "4524ef5b",
   "metadata": {},
   "outputs": [],
   "source": [
    "import random\n",
    "from string import ascii_lowercase as alpha\n",
    "from copy import copy\n",
    "\n",
    "def string_map(string,src_map,dst_map):\n",
    "    return \"\".join([dst_map[src_map.index(c)] for c in string])\n",
    "\n",
    "class Monoalphabetic:\n",
    "    def __init__(self,keymap=None):\n",
    "        if keymap == None:\n",
    "            keymap = self.keygen()\n",
    "        else:\n",
    "            assert len(keymap) == 26, \"Keymap must be 26-chars long\"\n",
    "        self.keymap = keymap\n",
    "    def encrypt(self,m):\n",
    "        return string_map(m,alpha,self.keymap)\n",
    "    def decrypt(self,c):\n",
    "        return string_map(c,self.keymap,alpha)\n",
    "    @staticmethod\n",
    "    def keygen():\n",
    "        keymap = [c for c in alpha]\n",
    "        random.shuffle(keymap)\n",
    "        return \"\".join(keymap)"
   ]
  },
  {
   "cell_type": "markdown",
   "id": "ed19512d",
   "metadata": {},
   "source": [
    "## With random key"
   ]
  },
  {
   "cell_type": "code",
   "execution_count": 2,
   "id": "aea0a4b0",
   "metadata": {},
   "outputs": [
    {
     "name": "stdout",
     "output_type": "stream",
     "text": [
      "abcdefghijklmnopqrstuvwxyz\n",
      "nkrbcjmyivuxpwoftzgsadlqhe\n"
     ]
    }
   ],
   "source": [
    "ma = Monoalphabetic()\n",
    "print(alpha)\n",
    "print(ma.keymap)"
   ]
  },
  {
   "cell_type": "code",
   "execution_count": 3,
   "id": "b0a3eebf",
   "metadata": {},
   "outputs": [
    {
     "name": "stdout",
     "output_type": "stream",
     "text": [
      "helloworld\n",
      "ycxxolozxb\n",
      "helloworld\n"
     ]
    }
   ],
   "source": [
    "m = \"helloworld\"\n",
    "c = ma.encrypt(m)\n",
    "rtn_m = ma.decrypt(c)\n",
    "\n",
    "print(m)\n",
    "print(c)\n",
    "print(rtn_m)"
   ]
  },
  {
   "cell_type": "markdown",
   "id": "9eb02d9f",
   "metadata": {},
   "source": [
    "## With given key"
   ]
  },
  {
   "cell_type": "code",
   "execution_count": 4,
   "id": "8cfcecbf",
   "metadata": {},
   "outputs": [
    {
     "name": "stdout",
     "output_type": "stream",
     "text": [
      "abcdefghijklmnopqrstuvwxyz\n",
      "qwertyuiopasdfghjklzxcvbnm\n"
     ]
    }
   ],
   "source": [
    "ma = Monoalphabetic(\"qwertyuiopasdfghjklzxcvbnm\")\n",
    "print(alpha)\n",
    "print(ma.keymap)"
   ]
  },
  {
   "cell_type": "code",
   "execution_count": 5,
   "id": "78513177",
   "metadata": {},
   "outputs": [
    {
     "name": "stdout",
     "output_type": "stream",
     "text": [
      "helloworld\n",
      "itssgvgksr\n",
      "helloworld\n"
     ]
    }
   ],
   "source": [
    "m = \"helloworld\"\n",
    "c = ma.encrypt(m)\n",
    "rtn_m = ma.decrypt(c)\n",
    "\n",
    "print(m)\n",
    "print(c)\n",
    "print(rtn_m)"
   ]
  },
  {
   "cell_type": "markdown",
   "id": "22ada67f",
   "metadata": {},
   "source": [
    "### Of the wrong length"
   ]
  },
  {
   "cell_type": "code",
   "execution_count": 6,
   "id": "c15f3206",
   "metadata": {},
   "outputs": [
    {
     "ename": "AssertionError",
     "evalue": "Keymap must be 26-chars long",
     "output_type": "error",
     "traceback": [
      "\u001b[0;31m---------------------------------------------------------------------------\u001b[0m",
      "\u001b[0;31mAssertionError\u001b[0m                            Traceback (most recent call last)",
      "Cell \u001b[0;32mIn[6], line 1\u001b[0m\n\u001b[0;32m----> 1\u001b[0m ma \u001b[38;5;241m=\u001b[39m \u001b[43mMonoalphabetic\u001b[49m\u001b[43m(\u001b[49m\u001b[38;5;124;43m\"\u001b[39;49m\u001b[38;5;124;43mqwertyuiopasdfghjklzxcvbn\u001b[39;49m\u001b[38;5;124;43m\"\u001b[39;49m\u001b[43m)\u001b[49m\n",
      "Cell \u001b[0;32mIn[1], line 13\u001b[0m, in \u001b[0;36mMonoalphabetic.__init__\u001b[0;34m(self, keymap)\u001b[0m\n\u001b[1;32m     11\u001b[0m     keymap \u001b[38;5;241m=\u001b[39m \u001b[38;5;28mself\u001b[39m\u001b[38;5;241m.\u001b[39mkeygen()\n\u001b[1;32m     12\u001b[0m \u001b[38;5;28;01melse\u001b[39;00m:\n\u001b[0;32m---> 13\u001b[0m     \u001b[38;5;28;01massert\u001b[39;00m \u001b[38;5;28mlen\u001b[39m(keymap) \u001b[38;5;241m==\u001b[39m Integer(\u001b[38;5;241m26\u001b[39m), \u001b[38;5;124m\"\u001b[39m\u001b[38;5;124mKeymap must be 26-chars long\u001b[39m\u001b[38;5;124m\"\u001b[39m\n\u001b[1;32m     14\u001b[0m \u001b[38;5;28mself\u001b[39m\u001b[38;5;241m.\u001b[39mkeymap \u001b[38;5;241m=\u001b[39m keymap\n",
      "\u001b[0;31mAssertionError\u001b[0m: Keymap must be 26-chars long"
     ]
    }
   ],
   "source": [
    "ma = Monoalphabetic(\"qwertyuiopasdfghjklzxcvbn\")"
   ]
  },
  {
   "cell_type": "code",
   "execution_count": null,
   "id": "3879f980",
   "metadata": {},
   "outputs": [],
   "source": []
  }
 ],
 "metadata": {
  "kernelspec": {
   "display_name": "SageMath 10.0",
   "language": "sage",
   "name": "sagemath"
  },
  "language_info": {
   "codemirror_mode": {
    "name": "ipython",
    "version": 3
   },
   "file_extension": ".py",
   "mimetype": "text/x-python",
   "name": "python",
   "nbconvert_exporter": "python",
   "pygments_lexer": "ipython3",
   "version": "3.11.3"
  }
 },
 "nbformat": 4,
 "nbformat_minor": 5
}
