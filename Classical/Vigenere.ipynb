{
 "cells": [
  {
   "cell_type": "markdown",
   "id": "38a7884a",
   "metadata": {},
   "source": [
    "## Vigenère Cipher"
   ]
  },
  {
   "cell_type": "code",
   "execution_count": 1,
   "id": "546adc16",
   "metadata": {},
   "outputs": [],
   "source": [
    "from string import ascii_lowercase as alpha \n",
    "import array\n",
    "\n",
    "def vigenere_operation(key,text,reverse):\n",
    "    keylen = len(key)\n",
    "    modifier = -1 if reverse else 1\n",
    "    return \"\".join([alpha[(alpha.index(text[i]) + key[i%keylen] * modifier) % 26] for i in range(len(text))])\n",
    "\n",
    "class Vigenere:\n",
    "    def __init__(self,key):\n",
    "        self.key = array.array('H',[alpha.index(char) for char in key.lower() if char in alpha])\n",
    "    def encrypt(self,m):\n",
    "        return vigenere_operation(self.key,m,False)\n",
    "    def decrypt(self,c):\n",
    "        return vigenere_operation(self.key,c,True)"
   ]
  },
  {
   "cell_type": "code",
   "execution_count": 2,
   "id": "44c45e2b",
   "metadata": {},
   "outputs": [
    {
     "name": "stdout",
     "output_type": "stream",
     "text": [
      "wearediscoveredsaveyourself\n",
      "zicvtwqngrzgvtwavzhcqyglmgj\n",
      "wearediscoveredsaveyourself\n"
     ]
    }
   ],
   "source": [
    "vig = Vigenere(\"deceptive\")\n",
    "m = \"wearediscoveredsaveyourself\"\n",
    "c = vig.encrypt(m)\n",
    "rtn_m = vig.decrypt(c)\n",
    "\n",
    "print(m)\n",
    "print(c)\n",
    "print(rtn_m)"
   ]
  },
  {
   "cell_type": "markdown",
   "id": "1e9ccefa",
   "metadata": {},
   "source": [
    "## One-time Pad"
   ]
  },
  {
   "cell_type": "code",
   "execution_count": 3,
   "id": "925f9a1f",
   "metadata": {},
   "outputs": [],
   "source": [
    "from random import choice\n",
    "\n",
    "def OTP_encrypt(m):\n",
    "    key = \"\".join([choice(alpha) for i in range(len(m))])\n",
    "    return Vigenere(key).encrypt(m),key\n",
    "\n",
    "def OTP_decrypt(c,key):\n",
    "    return Vigenere(key).decrypt(c)"
   ]
  },
  {
   "cell_type": "code",
   "execution_count": 4,
   "id": "ae04590b",
   "metadata": {},
   "outputs": [
    {
     "name": "stdout",
     "output_type": "stream",
     "text": [
      "Run 1\n",
      "helloworldbydavenull\n",
      "vwygeayzjlogoweelrol\n",
      "helloworldbydavenull\n",
      "osnvqekiyinilwjayxda 20 20\n",
      "Run 2\n",
      "helloworldbydavenull\n",
      "pzlszqxieajmvmnhqyyw\n",
      "helloworldbydavenull\n",
      "ivahlujrtxiosmsddenl 20 20\n"
     ]
    }
   ],
   "source": [
    "m = \"helloworldbydavenull\"\n",
    "\n",
    "for i in range(2):\n",
    "    print(\"Run {}\".format(i + 1))\n",
    "    c,key = OTP_encrypt(m)\n",
    "    rtn_m = OTP_decrypt(c,key)\n",
    "    \n",
    "    print(m)\n",
    "    print(c)\n",
    "    print(rtn_m)\n",
    "    \n",
    "    print(key,len(key),len(m))"
   ]
  },
  {
   "cell_type": "code",
   "execution_count": null,
   "id": "28590cbb",
   "metadata": {},
   "outputs": [],
   "source": []
  }
 ],
 "metadata": {
  "kernelspec": {
   "display_name": "SageMath 10.0",
   "language": "sage",
   "name": "sagemath"
  },
  "language_info": {
   "codemirror_mode": {
    "name": "ipython",
    "version": 3
   },
   "file_extension": ".py",
   "mimetype": "text/x-python",
   "name": "python",
   "nbconvert_exporter": "python",
   "pygments_lexer": "ipython3",
   "version": "3.11.3"
  }
 },
 "nbformat": 4,
 "nbformat_minor": 5
}
