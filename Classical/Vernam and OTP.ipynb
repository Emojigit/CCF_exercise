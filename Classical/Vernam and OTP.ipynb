{
 "cells": [
  {
   "cell_type": "code",
   "execution_count": 1,
   "id": "c1310957-ff93-439f-9f30-f09f83dc255b",
   "metadata": {},
   "outputs": [],
   "source": [
    "import array, numpy as np\n",
    "\n",
    "# array.array('B') are unsigned char in C\n",
    "# Just enough to contain any ascii charactor\n",
    "\n",
    "def vernam_operation(src_array,keystream):\n",
    "    key_len = len(keystream)\n",
    "    return array.array('B',[np.bitwise_xor(v,keystream[i % key_len]) for i,v in enumerate(src_array)])\n",
    "\n",
    "# Convert bytearray to sth like FF FA 01 BB\n",
    "def bytearray_to_readable(btarr):\n",
    "    return \" \".join([hex(b)[2:].upper().zfill(2) for b in btarr])\n",
    "\n",
    "def bytearray_to_string(arr):\n",
    "    return \"\".join([chr(v) for v in arr])\n",
    "def string_to_bytearray(chars):\n",
    "    assert chars.isascii(), \"String must be ASCII charactors.\"\n",
    "    return array.array('B',[ord(v) for v in chars])\n",
    "\n",
    "# All parameters involving plaintexts or ciphertexts assume bytearray\n",
    "class Vernam:\n",
    "    def __init__(self,keystream):\n",
    "        self.keystream = keystream\n",
    "    @staticmethod\n",
    "    def keygen(length):\n",
    "        gen = np.random.default_rng()\n",
    "        keystream = array.array('B')\n",
    "        bitlen = 2 ** (keystream.itemsize * 8)\n",
    "        for _ in range(length):\n",
    "            keystream.append(gen.integers(0,bitlen))\n",
    "        return keystream\n",
    "    def operation(self,a):\n",
    "        return vernam_operation(a,self.keystream)\n",
    "    # Reverse of XOR is also XOR\n",
    "    # Creating shorcuts for readibility\n",
    "    encrypt = operation\n",
    "    decrypt = operation"
   ]
  },
  {
   "cell_type": "code",
   "execution_count": 2,
   "id": "18d8bb76-f053-4275-9474-155cf22c78e6",
   "metadata": {},
   "outputs": [
    {
     "name": "stdout",
     "output_type": "stream",
     "text": [
      "E1 0A CB DF 71 32 1A 48 CF 8B\n"
     ]
    }
   ],
   "source": [
    "key = Vernam.keygen(10) # Generate a fixed-length key, Less secure than OTP\n",
    "print(bytearray_to_readable(key))"
   ]
  },
  {
   "cell_type": "code",
   "execution_count": 3,
   "id": "76469e94-6d97-416a-98e3-6db783a4267c",
   "metadata": {},
   "outputs": [
    {
     "name": "stdout",
     "output_type": "stream",
     "text": [
      "We are discovered, safe yourself. 57 65 20 61 72 65 20 64 69 73 63 6F 76 65 72 65 64 2C 20 73 61 66 65 20 79 6F 75 72 73 65 6C 66 2E\n",
      "B6 6F EB BE 03 57 3A 2C A6 F8 82 65 BD BA 03 57 7E 64 EF F8 80 6C AE FF 08 5D 6F 3A BC EE 8D 6C E5\n",
      "We are discovered, safe yourself. 57 65 20 61 72 65 20 64 69 73 63 6F 76 65 72 65 64 2C 20 73 61 66 65 20 79 6F 75 72 73 65 6C 66 2E\n"
     ]
    }
   ],
   "source": [
    "ve = Vernam(key)\n",
    "m = \"We are discovered, safe yourself.\"\n",
    "m_btarr = string_to_bytearray(m)\n",
    "c = ve.encrypt(m_btarr)\n",
    "rtn_m_btarr = ve.decrypt(c)\n",
    "rtn_m = bytearray_to_string(rtn_m_btarr)\n",
    "\n",
    "print(m,bytearray_to_readable(m_btarr))\n",
    "print(bytearray_to_readable(c))\n",
    "print(rtn_m,bytearray_to_readable(rtn_m_btarr))"
   ]
  },
  {
   "cell_type": "markdown",
   "id": "89d774b9-d306-4bef-bc58-ab5498a09be6",
   "metadata": {},
   "source": [
    "## One-time Pad (OTP)"
   ]
  },
  {
   "cell_type": "code",
   "execution_count": 4,
   "id": "9ac72eaa-04e9-40a4-bdc8-354563f3c80c",
   "metadata": {},
   "outputs": [
    {
     "name": "stdout",
     "output_type": "stream",
     "text": [
      "Run 1\n",
      "D7 0A 8C D1 5C 5F 2C 08 45 FC 95 94 B7 CF E5 1C 1D A1 19 D9 DF 84 19 0A 89 7B DD 55 7F A6 49 43 60\n",
      "We are discovered, safe yourself. 57 65 20 61 72 65 20 64 69 73 63 6F 76 65 72 65 64 2C 20 73 61 66 65 20 79 6F 75 72 73 65 6C 66 2E\n",
      "80 6F AC B0 2E 3A 0C 6C 2C 8F F6 FB C1 AA 97 79 79 8D 39 AA BE E2 7C 2A F0 14 A8 27 0C C3 25 25 4E\n",
      "We are discovered, safe yourself. 57 65 20 61 72 65 20 64 69 73 63 6F 76 65 72 65 64 2C 20 73 61 66 65 20 79 6F 75 72 73 65 6C 66 2E\n",
      "Run 2\n",
      "98 EB 5F 30 7D 12 0A 43 9B 0A 93 53 FA 0C E6 27 5D 87 6F 86 21 3A D2 40 3F 54 7E BA 80 9B F5 02 F8\n",
      "We are discovered, safe yourself. 57 65 20 61 72 65 20 64 69 73 63 6F 76 65 72 65 64 2C 20 73 61 66 65 20 79 6F 75 72 73 65 6C 66 2E\n",
      "CF 8E 7F 51 0F 77 2A 27 F2 79 F0 3C 8C 69 94 42 39 AB 4F F5 40 5C B7 60 46 3B 0B C8 F3 FE 99 64 D6\n",
      "We are discovered, safe yourself. 57 65 20 61 72 65 20 64 69 73 63 6F 76 65 72 65 64 2C 20 73 61 66 65 20 79 6F 75 72 73 65 6C 66 2E\n",
      "Run 3\n",
      "37 F3 18 26 7F 17 01 C6 79 49 19 3A CE CC 7D 8A 4B E7 AC 5B 11 11 61 88 67 8D 4C B0 1F 4E 68 FB 7F\n",
      "We are discovered, safe yourself. 57 65 20 61 72 65 20 64 69 73 63 6F 76 65 72 65 64 2C 20 73 61 66 65 20 79 6F 75 72 73 65 6C 66 2E\n",
      "60 96 38 47 0D 72 21 A2 10 3A 7A 55 B8 A9 0F EF 2F CB 8C 28 70 77 04 A8 1E E2 39 C2 6C 2B 04 9D 51\n",
      "We are discovered, safe yourself. 57 65 20 61 72 65 20 64 69 73 63 6F 76 65 72 65 64 2C 20 73 61 66 65 20 79 6F 75 72 73 65 6C 66 2E\n",
      "Run 4\n",
      "C3 AE 5F 53 92 6D D8 44 40 DF 01 F1 45 D0 A9 52 EC C8 81 03 FB A6 20 2D 46 A1 C9 FC EA 91 D2 B5 53\n",
      "We are discovered, safe yourself. 57 65 20 61 72 65 20 64 69 73 63 6F 76 65 72 65 64 2C 20 73 61 66 65 20 79 6F 75 72 73 65 6C 66 2E\n",
      "94 CB 7F 32 E0 08 F8 20 29 AC 62 9E 33 B5 DB 37 88 E4 A1 70 9A C0 45 0D 3F CE BC 8E 99 F4 BE D3 7D\n",
      "We are discovered, safe yourself. 57 65 20 61 72 65 20 64 69 73 63 6F 76 65 72 65 64 2C 20 73 61 66 65 20 79 6F 75 72 73 65 6C 66 2E\n",
      "Run 5\n",
      "B0 B9 E5 00 5C E8 1C 7C 62 5C 8B 12 23 46 A7 AA 41 25 0D 98 68 00 5F 2B 4B 39 62 39 41 62 E5 22 C3\n",
      "We are discovered, safe yourself. 57 65 20 61 72 65 20 64 69 73 63 6F 76 65 72 65 64 2C 20 73 61 66 65 20 79 6F 75 72 73 65 6C 66 2E\n",
      "E7 DC C5 61 2E 8D 3C 18 0B 2F E8 7D 55 23 D5 CF 25 09 2D EB 09 66 3A 0B 32 56 17 4B 32 07 89 44 ED\n",
      "We are discovered, safe yourself. 57 65 20 61 72 65 20 64 69 73 63 6F 76 65 72 65 64 2C 20 73 61 66 65 20 79 6F 75 72 73 65 6C 66 2E\n"
     ]
    }
   ],
   "source": [
    "def OTP_encrypt(m):\n",
    "    key = Vernam.keygen(len(m))\n",
    "    return Vernam(key).encrypt(m), key\n",
    "\n",
    "def OTP_decrypt(c,key):\n",
    "    return Vernam(key).decrypt(c)\n",
    "\n",
    "for i in range(5):\n",
    "    print(\"Run {}\".format(i + 1))\n",
    "    m = \"We are discovered, safe yourself.\"\n",
    "    m_btarr = string_to_bytearray(m)\n",
    "    c, key = OTP_encrypt(m_btarr)\n",
    "    rtn_m_btarr = OTP_decrypt(c, key)\n",
    "    rtn_m = bytearray_to_string(rtn_m_btarr)\n",
    "\n",
    "    print(bytearray_to_readable(key))\n",
    "    print(m,bytearray_to_readable(m_btarr))\n",
    "    print(bytearray_to_readable(c))\n",
    "    print(rtn_m,bytearray_to_readable(rtn_m_btarr))"
   ]
  },
  {
   "cell_type": "markdown",
   "id": "7f399f75-e35f-4277-98e1-981f5512e07d",
   "metadata": {},
   "source": [
    "## Non-ASCII Exception"
   ]
  },
  {
   "cell_type": "code",
   "execution_count": 5,
   "id": "c6c44da4-ecb4-4189-8a54-6fa7b54e7964",
   "metadata": {},
   "outputs": [
    {
     "ename": "AssertionError",
     "evalue": "String must be ASCII charactors.",
     "output_type": "error",
     "traceback": [
      "\u001b[0;31m---------------------------------------------------------------------------\u001b[0m",
      "\u001b[0;31mAssertionError\u001b[0m                            Traceback (most recent call last)",
      "Cell \u001b[0;32mIn[5], line 1\u001b[0m\n\u001b[0;32m----> 1\u001b[0m \u001b[43mstring_to_bytearray\u001b[49m\u001b[43m(\u001b[49m\u001b[38;5;124;43m\"\u001b[39;49m\u001b[38;5;124;43mHappy 測試\u001b[39;49m\u001b[38;5;124;43m\"\u001b[39;49m\u001b[43m)\u001b[49m\n",
      "Cell \u001b[0;32mIn[1], line 17\u001b[0m, in \u001b[0;36mstring_to_bytearray\u001b[0;34m(chars)\u001b[0m\n\u001b[1;32m     16\u001b[0m \u001b[38;5;28;01mdef\u001b[39;00m \u001b[38;5;21mstring_to_bytearray\u001b[39m(chars):\n\u001b[0;32m---> 17\u001b[0m     \u001b[38;5;28;01massert\u001b[39;00m chars\u001b[38;5;241m.\u001b[39misascii(), \u001b[38;5;124m\"\u001b[39m\u001b[38;5;124mString must be ASCII charactors.\u001b[39m\u001b[38;5;124m\"\u001b[39m\n\u001b[1;32m     18\u001b[0m     \u001b[38;5;28;01mreturn\u001b[39;00m array\u001b[38;5;241m.\u001b[39marray(\u001b[38;5;124m'\u001b[39m\u001b[38;5;124mB\u001b[39m\u001b[38;5;124m'\u001b[39m,[\u001b[38;5;28mord\u001b[39m(v) \u001b[38;5;28;01mfor\u001b[39;00m v \u001b[38;5;129;01min\u001b[39;00m chars])\n",
      "\u001b[0;31mAssertionError\u001b[0m: String must be ASCII charactors."
     ]
    }
   ],
   "source": [
    "string_to_bytearray(\"Happy 測試\")"
   ]
  },
  {
   "cell_type": "code",
   "execution_count": null,
   "id": "f6f42dc9-d93e-4b25-aecb-2380983e1f28",
   "metadata": {},
   "outputs": [],
   "source": []
  }
 ],
 "metadata": {
  "kernelspec": {
   "display_name": "SageMath 10.0",
   "language": "sage",
   "name": "sagemath"
  },
  "language_info": {
   "codemirror_mode": {
    "name": "ipython",
    "version": 3
   },
   "file_extension": ".py",
   "mimetype": "text/x-python",
   "name": "python",
   "nbconvert_exporter": "python",
   "pygments_lexer": "ipython3",
   "version": "3.11.3"
  }
 },
 "nbformat": 4,
 "nbformat_minor": 5
}
