{
 "cells": [
  {
   "cell_type": "code",
   "execution_count": 1,
   "id": "c1310957-ff93-439f-9f30-f09f83dc255b",
   "metadata": {},
   "outputs": [],
   "source": [
    "import array, numpy as np\n",
    "\n",
    "# array.array('B') are unsigned char in C\n",
    "\n",
    "def vernam_operation(src_array,keystream):\n",
    "    key_len = len(keystream)\n",
    "    return array.array('B',[np.bitwise_xor(v,keystream[i % key_len]) for i,v in enumerate(src_array)])\n",
    "\n",
    "def bytearray_to_readable(btarr):\n",
    "    return \" \".join([hex(b)[2:].upper().zfill(2) for b in btarr])\n",
    "\n",
    "class Vernam:\n",
    "    def __init__(self,keystream):\n",
    "        self.keystream = keystream\n",
    "    @staticmethod\n",
    "    def keygen(length):\n",
    "        gen = np.random.default_rng()\n",
    "        keystream = array.array('B')\n",
    "        bitlen = 2 ** (keystream.itemsize * 8)\n",
    "        for _ in range(length):\n",
    "            keystream.append(gen.integers(0,bitlen))\n",
    "        return keystream\n",
    "    @staticmethod\n",
    "    def bytearray_to_string(arr):\n",
    "        return \"\".join([chr(v) for v in arr])\n",
    "    @staticmethod\n",
    "    def string_to_bytearray(chars):\n",
    "        return array.array('B',[ord(v) for v in chars])\n",
    "    def operation(self,a):\n",
    "        return vernam_operation(a,self.keystream)\n",
    "    # Reverse of XOR is also XOR\n",
    "    encrypt = operation\n",
    "    decrypt = operation"
   ]
  },
  {
   "cell_type": "code",
   "execution_count": 2,
   "id": "18d8bb76-f053-4275-9474-155cf22c78e6",
   "metadata": {},
   "outputs": [
    {
     "name": "stdout",
     "output_type": "stream",
     "text": [
      "array('B', [30, 154, 248, 24, 214, 74, 3, 56, 217, 85])\n"
     ]
    }
   ],
   "source": [
    "key = Vernam.keygen(10)\n",
    "print(key)"
   ]
  },
  {
   "cell_type": "code",
   "execution_count": 3,
   "id": "76469e94-6d97-416a-98e3-6db783a4267c",
   "metadata": {},
   "outputs": [
    {
     "name": "stdout",
     "output_type": "stream",
     "text": [
      "We are discovered, safe yourself. 57 65 20 61 72 65 20 64 69 73 63 6F 76 65 72 65 64 2C 20 73 61 66 65 20 79 6F 75 72 73 65 6C 66 2E\n",
      "49 FF D8 79 A4 2F 23 5C B0 26 7D F5 8E 7D A4 2F 67 14 F9 26 7F FC 9D 38 AF 25 76 4A AA 30 72 FC D6\n",
      "We are discovered, safe yourself. 57 65 20 61 72 65 20 64 69 73 63 6F 76 65 72 65 64 2C 20 73 61 66 65 20 79 6F 75 72 73 65 6C 66 2E\n"
     ]
    }
   ],
   "source": [
    "ve = Vernam(key)\n",
    "m = \"We are discovered, safe yourself.\"\n",
    "m_btarr = Vernam.string_to_bytearray(m)\n",
    "c = ve.encrypt(m_btarr)\n",
    "rtn_m_btarr = ve.decrypt(c)\n",
    "rtn_m = Vernam.bytearray_to_string(rtn_m_btarr)\n",
    "\n",
    "print(m,bytearray_to_readable(m_btarr))\n",
    "print(bytearray_to_readable(c))\n",
    "print(rtn_m,bytearray_to_readable(rtn_m_btarr))"
   ]
  },
  {
   "cell_type": "markdown",
   "id": "89d774b9-d306-4bef-bc58-ab5498a09be6",
   "metadata": {},
   "source": [
    "## One-time Pad (OTP)"
   ]
  },
  {
   "cell_type": "code",
   "execution_count": 4,
   "id": "9ac72eaa-04e9-40a4-bdc8-354563f3c80c",
   "metadata": {},
   "outputs": [
    {
     "name": "stdout",
     "output_type": "stream",
     "text": [
      "Run 1\n",
      "3C 6B ED 27 8B A5 7D E8 51 C4 19 3B 6A 2B A9 06 39 25 F8 FF A4 93 71 68 C8 E5 ED 30 F8 33 B8 CE AB\n",
      "We are discovered, safe yourself. 57 65 20 61 72 65 20 64 69 73 63 6F 76 65 72 65 64 2C 20 73 61 66 65 20 79 6F 75 72 73 65 6C 66 2E\n",
      "6B 0E CD 46 F9 C0 5D 8C 38 B7 7A 54 1C 4E DB 63 5D 09 D8 8C C5 F5 14 48 B1 8A 98 42 8B 56 D4 A8 85\n",
      "We are discovered, safe yourself. 57 65 20 61 72 65 20 64 69 73 63 6F 76 65 72 65 64 2C 20 73 61 66 65 20 79 6F 75 72 73 65 6C 66 2E\n",
      "Run 2\n",
      "73 6C C4 75 8F 9F 1E FB A3 92 AC E1 1D D1 68 62 47 D6 90 0D 02 12 31 E4 C3 4F 3F 12 E2 06 5A FB B5\n",
      "We are discovered, safe yourself. 57 65 20 61 72 65 20 64 69 73 63 6F 76 65 72 65 64 2C 20 73 61 66 65 20 79 6F 75 72 73 65 6C 66 2E\n",
      "24 09 E4 14 FD FA 3E 9F CA E1 CF 8E 6B B4 1A 07 23 FA B0 7E 63 74 54 C4 BA 20 4A 60 91 63 36 9D 9B\n",
      "We are discovered, safe yourself. 57 65 20 61 72 65 20 64 69 73 63 6F 76 65 72 65 64 2C 20 73 61 66 65 20 79 6F 75 72 73 65 6C 66 2E\n",
      "Run 3\n",
      "FC 1F 1E 16 E6 60 79 24 DC 2F 20 84 C8 F3 26 D7 1B E4 5A 10 30 F6 9A 1A 90 53 35 D7 12 09 48 1A 19\n",
      "We are discovered, safe yourself. 57 65 20 61 72 65 20 64 69 73 63 6F 76 65 72 65 64 2C 20 73 61 66 65 20 79 6F 75 72 73 65 6C 66 2E\n",
      "AB 7A 3E 77 94 05 59 40 B5 5C 43 EB BE 96 54 B2 7F C8 7A 63 51 90 FF 3A E9 3C 40 A5 61 6C 24 7C 37\n",
      "We are discovered, safe yourself. 57 65 20 61 72 65 20 64 69 73 63 6F 76 65 72 65 64 2C 20 73 61 66 65 20 79 6F 75 72 73 65 6C 66 2E\n",
      "Run 4\n",
      "AC E3 4D 85 65 5B F1 AC 23 DE 8E B9 D2 1E 0C AA CA 14 FA D9 1E C6 E4 AD 7E 70 45 FA 2F 82 A5 2C 3E\n",
      "We are discovered, safe yourself. 57 65 20 61 72 65 20 64 69 73 63 6F 76 65 72 65 64 2C 20 73 61 66 65 20 79 6F 75 72 73 65 6C 66 2E\n",
      "FB 86 6D E4 17 3E D1 C8 4A AD ED D6 A4 7B 7E CF AE 38 DA AA 7F A0 81 8D 07 1F 30 88 5C E7 C9 4A 10\n",
      "We are discovered, safe yourself. 57 65 20 61 72 65 20 64 69 73 63 6F 76 65 72 65 64 2C 20 73 61 66 65 20 79 6F 75 72 73 65 6C 66 2E\n",
      "Run 5\n",
      "87 2B C6 FC 21 9F EA 83 5F 1E 2B 9A CF D1 82 9A 19 18 C8 F9 30 DE 4E AE 8D 34 81 1C 30 D2 00 F1 8A\n",
      "We are discovered, safe yourself. 57 65 20 61 72 65 20 64 69 73 63 6F 76 65 72 65 64 2C 20 73 61 66 65 20 79 6F 75 72 73 65 6C 66 2E\n",
      "D0 4E E6 9D 53 FA CA E7 36 6D 48 F5 B9 B4 F0 FF 7D 34 E8 8A 51 B8 2B 8E F4 5B F4 6E 43 B7 6C 97 A4\n",
      "We are discovered, safe yourself. 57 65 20 61 72 65 20 64 69 73 63 6F 76 65 72 65 64 2C 20 73 61 66 65 20 79 6F 75 72 73 65 6C 66 2E\n"
     ]
    }
   ],
   "source": [
    "def OTP_encrypt(m):\n",
    "    key = Vernam.keygen(len(m))\n",
    "    return Vernam(key).encrypt(m), key\n",
    "\n",
    "def OTP_decrypt(c,key):\n",
    "    return Vernam(key).decrypt(c)\n",
    "\n",
    "for i in range(5):\n",
    "    print(\"Run {}\".format(i + 1))\n",
    "    m = \"We are discovered, safe yourself.\"\n",
    "    m_btarr = Vernam.string_to_bytearray(m)\n",
    "    c, key = OTP_encrypt(m_btarr)\n",
    "    rtn_m_btarr = OTP_decrypt(c, key)\n",
    "    rtn_m = Vernam.bytearray_to_string(rtn_m_btarr)\n",
    "\n",
    "    print(bytearray_to_readable(key))\n",
    "    print(m,bytearray_to_readable(m_btarr))\n",
    "    print(bytearray_to_readable(c))\n",
    "    print(rtn_m,bytearray_to_readable(rtn_m_btarr))"
   ]
  },
  {
   "cell_type": "code",
   "execution_count": null,
   "id": "d2a811e1-7c84-4513-9720-127a72063ef6",
   "metadata": {},
   "outputs": [],
   "source": []
  }
 ],
 "metadata": {
  "kernelspec": {
   "display_name": "SageMath 10.0",
   "language": "sage",
   "name": "sagemath"
  },
  "language_info": {
   "codemirror_mode": {
    "name": "ipython",
    "version": 3
   },
   "file_extension": ".py",
   "mimetype": "text/x-python",
   "name": "python",
   "nbconvert_exporter": "python",
   "pygments_lexer": "ipython3",
   "version": "3.11.3"
  }
 },
 "nbformat": 4,
 "nbformat_minor": 5
}
