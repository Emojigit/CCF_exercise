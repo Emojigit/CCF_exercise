{
 "cells": [
  {
   "cell_type": "code",
   "execution_count": 1,
   "id": "7adba206-8bd8-49d8-8759-fd85305c2daa",
   "metadata": {},
   "outputs": [],
   "source": [
    "import numpy as np\n",
    "\n",
    "def vernam_operation(src_array,keystream):\n",
    "    key_len = len(keystream)\n",
    "    return bytearray([src_array[i] ^^ keystream[i % key_len] for i in range(len(src_array))])\n",
    "\n",
    "# Convert bytearray to sth like FF FA 01 BB\n",
    "def bytearray_to_readable(btarr):\n",
    "    return \" \".join([hex(b)[2:].upper().zfill(2) for b in btarr])\n",
    "\n",
    "# All parameters involving plaintexts or ciphertexts assume bytearray\n",
    "class Vernam:\n",
    "    def __init__(self,keystream):\n",
    "        self.keystream = keystream\n",
    "    @staticmethod\n",
    "    def keygen(length):\n",
    "        gen = np.random.default_rng()\n",
    "        keystream = bytearray()\n",
    "        bitlen = 2 ** 8\n",
    "        for _ in range(length):\n",
    "            keystream.append(gen.integers(0,bitlen))\n",
    "        return keystream\n",
    "    def operation(self,a):\n",
    "        return vernam_operation(a,self.keystream)\n",
    "    # Reverse of XOR is also XOR\n",
    "    # Creating shorcuts for readibility\n",
    "    encrypt = operation\n",
    "    decrypt = operation\n",
    "    # Recover key from plain XOR crypt\n",
    "    @staticmethod\n",
    "    def recover_key(plain,crypt):\n",
    "        assert len(plain) == len(crypt)\n",
    "        return bytearray([plain[i] ^^ crypt[i] for i in range(len(plain))])"
   ]
  },
  {
   "cell_type": "code",
   "execution_count": 2,
   "id": "830459ab-741f-4168-b726-b531b2aaa36a",
   "metadata": {},
   "outputs": [
    {
     "name": "stdout",
     "output_type": "stream",
     "text": [
      "0B D1 FA 23 18 B6 E0 55 47 A7\n"
     ]
    }
   ],
   "source": [
    "key = Vernam.keygen(10) # Generate a fixed-length key, Less secure than OTP\n",
    "print(bytearray_to_readable(key))"
   ]
  },
  {
   "cell_type": "code",
   "execution_count": 3,
   "id": "bff3544d-7475-4967-b223-eaca101c5d63",
   "metadata": {},
   "outputs": [
    {
     "name": "stdout",
     "output_type": "stream",
     "text": [
      "We are discovered, safe yourself. 57 65 20 61 72 65 20 64 69 73 63 6F 76 65 72 65 64 2C 20 73 61 66 65 20 79 6F 75 72 73 65 6C 66 2E\n",
      "5C B4 DA 42 6A D3 C0 31 2E D4 68 BE 8C 46 6A D3 84 79 67 D4 6A B7 9F 03 61 D9 95 27 34 C2 67 B7 D4\n",
      "We are discovered, safe yourself. 57 65 20 61 72 65 20 64 69 73 63 6F 76 65 72 65 64 2C 20 73 61 66 65 20 79 6F 75 72 73 65 6C 66 2E\n",
      "0B D1 FA 23 18 B6 E0 55 47 A7 0B D1 FA 23 18 B6 E0 55 47 A7 0B D1 FA 23 18 B6 E0 55 47 A7 0B D1 FA\n"
     ]
    }
   ],
   "source": [
    "ve = Vernam(key)\n",
    "m = \"We are discovered, safe yourself.\"\n",
    "m_btarr = bytearray(m,encoding=\"ascii\")\n",
    "c = ve.encrypt(m_btarr)\n",
    "rtn_m_btarr = ve.decrypt(c)\n",
    "rtn_m = rtn_m_btarr.decode(encoding=\"ascii\")\n",
    "\n",
    "print(m,bytearray_to_readable(m_btarr))\n",
    "print(bytearray_to_readable(c))\n",
    "print(rtn_m,bytearray_to_readable(rtn_m_btarr))\n",
    "print(bytearray_to_readable(Vernam.recover_key(m_btarr,c)))"
   ]
  },
  {
   "cell_type": "markdown",
   "id": "a6d3aeee-e494-4fba-9167-b1c757a6c020",
   "metadata": {},
   "source": [
    "## One-time Pad (OTP)"
   ]
  },
  {
   "cell_type": "code",
   "execution_count": 4,
   "id": "c13f57a2-bfe3-47e7-80a6-dd4a7bfc0e7e",
   "metadata": {},
   "outputs": [
    {
     "name": "stdout",
     "output_type": "stream",
     "text": [
      "Run 1\n",
      "E2 88 E9 BD 1C FE F5 FB 6E 53 63 F3 9E E1 19 94 66 C1 50 42 52 65 4C FD CC 74 A0 E7 D4 E0 0F 56 CA\n",
      "We are discovered, safe yourself. 57 65 20 61 72 65 20 64 69 73 63 6F 76 65 72 65 64 2C 20 73 61 66 65 20 79 6F 75 72 73 65 6C 66 2E\n",
      "B5 ED C9 DC 6E 9B D5 9F 07 20 00 9C E8 84 6B F1 02 ED 70 31 33 03 29 DD B5 1B D5 95 A7 85 63 30 E4\n",
      "We are discovered, safe yourself. 57 65 20 61 72 65 20 64 69 73 63 6F 76 65 72 65 64 2C 20 73 61 66 65 20 79 6F 75 72 73 65 6C 66 2E\n",
      "Run 2\n",
      "38 DE 2C A3 7C B4 65 94 B6 A5 70 2C 77 84 C9 54 97 A4 8D D2 8B 8F 94 CF 58 F3 66 0F 3D A1 40 6C 68\n",
      "We are discovered, safe yourself. 57 65 20 61 72 65 20 64 69 73 63 6F 76 65 72 65 64 2C 20 73 61 66 65 20 79 6F 75 72 73 65 6C 66 2E\n",
      "6F BB 0C C2 0E D1 45 F0 DF D6 13 43 01 E1 BB 31 F3 88 AD A1 EA E9 F1 EF 21 9C 13 7D 4E C4 2C 0A 46\n",
      "We are discovered, safe yourself. 57 65 20 61 72 65 20 64 69 73 63 6F 76 65 72 65 64 2C 20 73 61 66 65 20 79 6F 75 72 73 65 6C 66 2E\n",
      "Run 3\n",
      "10 21 35 D4 AB EA 2E DC 2B F5 8B 5B B5 76 38 85 7E 22 16 98 05 01 E2 1E E2 FC 58 2A 9B E4 93 85 D1\n",
      "We are discovered, safe yourself. 57 65 20 61 72 65 20 64 69 73 63 6F 76 65 72 65 64 2C 20 73 61 66 65 20 79 6F 75 72 73 65 6C 66 2E\n",
      "47 44 15 B5 D9 8F 0E B8 42 86 E8 34 C3 13 4A E0 1A 0E 36 EB 64 67 87 3E 9B 93 2D 58 E8 81 FF E3 FF\n",
      "We are discovered, safe yourself. 57 65 20 61 72 65 20 64 69 73 63 6F 76 65 72 65 64 2C 20 73 61 66 65 20 79 6F 75 72 73 65 6C 66 2E\n",
      "Run 4\n",
      "0A BF 4A 30 21 BB A6 C8 06 5B BF 4A 7F 3E E1 AE 9B 63 B7 C9 27 A9 1C 60 D9 AF 2E DE 84 BE 0C 7E 0C\n",
      "We are discovered, safe yourself. 57 65 20 61 72 65 20 64 69 73 63 6F 76 65 72 65 64 2C 20 73 61 66 65 20 79 6F 75 72 73 65 6C 66 2E\n",
      "5D DA 6A 51 53 DE 86 AC 6F 28 DC 25 09 5B 93 CB FF 4F 97 BA 46 CF 79 40 A0 C0 5B AC F7 DB 60 18 22\n",
      "We are discovered, safe yourself. 57 65 20 61 72 65 20 64 69 73 63 6F 76 65 72 65 64 2C 20 73 61 66 65 20 79 6F 75 72 73 65 6C 66 2E\n",
      "Run 5\n",
      "1D AA 65 94 F1 7F E1 0B 41 2A 14 2E A2 0A 3D 82 AA 43 DC B2 F5 D3 B9 FE D0 E4 7A 46 B6 D8 6B 07 C3\n",
      "We are discovered, safe yourself. 57 65 20 61 72 65 20 64 69 73 63 6F 76 65 72 65 64 2C 20 73 61 66 65 20 79 6F 75 72 73 65 6C 66 2E\n",
      "4A CF 45 F5 83 1A C1 6F 28 59 77 41 D4 6F 4F E7 CE 6F FC C1 94 B5 DC DE A9 8B 0F 34 C5 BD 07 61 ED\n",
      "We are discovered, safe yourself. 57 65 20 61 72 65 20 64 69 73 63 6F 76 65 72 65 64 2C 20 73 61 66 65 20 79 6F 75 72 73 65 6C 66 2E\n"
     ]
    }
   ],
   "source": [
    "def OTP_encrypt(m):\n",
    "    key = Vernam.keygen(len(m))\n",
    "    return Vernam(key).encrypt(m), key\n",
    "\n",
    "def OTP_decrypt(c,key):\n",
    "    return Vernam(key).decrypt(c)\n",
    "\n",
    "for i in range(5):\n",
    "    print(\"Run {}\".format(i + 1))\n",
    "    m = \"We are discovered, safe yourself.\"\n",
    "    m_btarr = bytearray(m,encoding=\"ascii\")\n",
    "    c, key = OTP_encrypt(m_btarr)\n",
    "    rtn_m_btarr = OTP_decrypt(c, key)\n",
    "    rtn_m = rtn_m_btarr.decode(encoding=\"ascii\")\n",
    "\n",
    "    print(bytearray_to_readable(key))\n",
    "    print(m,bytearray_to_readable(m_btarr))\n",
    "    print(bytearray_to_readable(c))\n",
    "    print(rtn_m,bytearray_to_readable(rtn_m_btarr))"
   ]
  },
  {
   "cell_type": "code",
   "execution_count": null,
   "id": "657766f1-74fb-4bfd-8d2d-9347471143e5",
   "metadata": {},
   "outputs": [],
   "source": []
  }
 ],
 "metadata": {
  "kernelspec": {
   "display_name": "SageMath 10.0",
   "language": "sage",
   "name": "sagemath"
  },
  "language_info": {
   "codemirror_mode": {
    "name": "ipython",
    "version": 3
   },
   "file_extension": ".py",
   "mimetype": "text/x-python",
   "name": "python",
   "nbconvert_exporter": "python",
   "pygments_lexer": "ipython3",
   "version": "3.11.3"
  }
 },
 "nbformat": 4,
 "nbformat_minor": 5
}
