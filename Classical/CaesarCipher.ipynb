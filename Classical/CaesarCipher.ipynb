{
 "cells": [
  {
   "cell_type": "markdown",
   "id": "5a5a4a56",
   "metadata": {},
   "source": [
    "## Caesar Cipher"
   ]
  },
  {
   "cell_type": "code",
   "execution_count": 10,
   "id": "f54d02ad",
   "metadata": {},
   "outputs": [],
   "source": [
    "from string import ascii_lowercase as alpha\n",
    "\n",
    "\n",
    "def offset_string(s,o):\n",
    "    s = s.lower()\n",
    "    return \"\".join([alpha[(alpha.index(c) + o) % 26] for c in s if c in alpha])\n",
    "\n",
    "class CaesarCipher:\n",
    "    def __init__(self,key):\n",
    "        self.key = key % 26\n",
    "    def encrypt(self,m):\n",
    "        return offset_string(m,self.key)\n",
    "    def decrypt(self,c):\n",
    "        return offset_string(c,self.key * -1)    "
   ]
  },
  {
   "cell_type": "code",
   "execution_count": 11,
   "id": "19146987",
   "metadata": {},
   "outputs": [],
   "source": [
    "k = 10\n",
    "cc = CaesarCipher(k)"
   ]
  },
  {
   "cell_type": "code",
   "execution_count": 12,
   "id": "e3524174",
   "metadata": {},
   "outputs": [
    {
     "name": "stdout",
     "output_type": "stream",
     "text": [
      "helloworld\n",
      "rovvygybvn\n",
      "helloworld\n"
     ]
    }
   ],
   "source": [
    "m = \"helloworld\"\n",
    "c = cc.encrypt(m)\n",
    "rtn_m = cc.decrypt(c)\n",
    "\n",
    "print(m)\n",
    "print(c)\n",
    "print(rtn_m)"
   ]
  },
  {
   "cell_type": "markdown",
   "id": "9f6fbe8b",
   "metadata": {},
   "source": [
    "## Bruceforce"
   ]
  },
  {
   "cell_type": "code",
   "execution_count": 13,
   "id": "fc766cd1",
   "metadata": {},
   "outputs": [
    {
     "name": "stdout",
     "output_type": "stream",
     "text": [
      "0 rovvygybvn\n",
      "1 qnuuxfxaum\n",
      "2 pmttwewztl\n",
      "3 olssvdvysk\n",
      "4 nkrrucuxrj\n",
      "5 mjqqtbtwqi\n",
      "6 lippsasvph\n",
      "7 khoorzruog\n",
      "8 jgnnqyqtnf\n",
      "9 ifmmpxpsme\n",
      "10 helloworld\n",
      "11 gdkknvnqkc\n",
      "12 fcjjmumpjb\n",
      "13 ebiiltloia\n",
      "14 dahhksknhz\n",
      "15 czggjrjmgy\n",
      "16 byffiqilfx\n",
      "17 axeehphkew\n",
      "18 zwddgogjdv\n",
      "19 yvccfnficu\n",
      "20 xubbemehbt\n",
      "21 wtaadldgas\n",
      "22 vszzckcfzr\n",
      "23 uryybjbeyq\n",
      "24 tqxxaiadxp\n",
      "25 spwwzhzcwo\n"
     ]
    }
   ],
   "source": [
    "m = \"rovvygybvn\"\n",
    "\n",
    "for k in range(26):\n",
    "    print(k, CaesarCipher(k).decrypt(m))"
   ]
  },
  {
   "cell_type": "code",
   "execution_count": null,
   "id": "3369396d",
   "metadata": {},
   "outputs": [],
   "source": []
  }
 ],
 "metadata": {
  "kernelspec": {
   "display_name": "SageMath 10.0",
   "language": "sage",
   "name": "sagemath"
  },
  "language_info": {
   "codemirror_mode": {
    "name": "ipython",
    "version": 3
   },
   "file_extension": ".py",
   "mimetype": "text/x-python",
   "name": "python",
   "nbconvert_exporter": "python",
   "pygments_lexer": "ipython3",
   "version": "3.11.3"
  }
 },
 "nbformat": 4,
 "nbformat_minor": 5
}
