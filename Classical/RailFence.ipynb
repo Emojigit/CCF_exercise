{
 "cells": [
  {
   "cell_type": "code",
   "execution_count": 1,
   "id": "2bb5fd79",
   "metadata": {},
   "outputs": [],
   "source": [
    "def RF_encrypt(m):\n",
    "    odd, even = \"\", \"\"\n",
    "    for i,char in enumerate(m):\n",
    "        if i % 2 == 0:\n",
    "            odd += char\n",
    "        else:\n",
    "            even  += char\n",
    "    return odd + even\n",
    "\n",
    "def RF_decrypt(c):\n",
    "    sep_pt = ceil(len(c)/2)\n",
    "    odd, m = [char for char in c[:sep_pt]], [char for char in c[sep_pt:]]\n",
    "    for i,char in enumerate(odd):\n",
    "        m.insert(i*2,char)\n",
    "    return \"\".join(m)    "
   ]
  },
  {
   "cell_type": "code",
   "execution_count": 2,
   "id": "04541a94",
   "metadata": {},
   "outputs": [
    {
     "name": "stdout",
     "output_type": "stream",
     "text": [
      "meetmeafterthetogaoarty\n",
      "mematrhtgoryetefeteoaat\n",
      "meetmeafterthetogaoarty\n"
     ]
    }
   ],
   "source": [
    "m = \"meetmeafterthetogaoarty\"\n",
    "c = RF_encrypt(m)\n",
    "rtn_m = RF_decrypt(c)\n",
    "\n",
    "print(m)\n",
    "print(c)\n",
    "print(rtn_m)"
   ]
  },
  {
   "cell_type": "code",
   "execution_count": null,
   "id": "1880e12a",
   "metadata": {},
   "outputs": [],
   "source": []
  }
 ],
 "metadata": {
  "kernelspec": {
   "display_name": "SageMath 10.0",
   "language": "sage",
   "name": "sagemath"
  },
  "language_info": {
   "codemirror_mode": {
    "name": "ipython",
    "version": 3
   },
   "file_extension": ".py",
   "mimetype": "text/x-python",
   "name": "python",
   "nbconvert_exporter": "python",
   "pygments_lexer": "ipython3",
   "version": "3.11.3"
  }
 },
 "nbformat": 4,
 "nbformat_minor": 5
}
