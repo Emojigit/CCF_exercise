{
 "cells": [
  {
   "cell_type": "code",
   "execution_count": 1,
   "id": "d6634186",
   "metadata": {},
   "outputs": [],
   "source": [
    "from collections.abc import Iterable\n",
    "\n",
    "class RowTransposition:\n",
    "    def __init__(self,key):\n",
    "        assert isinstance(key,Iterable)\n",
    "        for num in key: assert isinstance(num,int) or isinstance(num,Integer)\n",
    "        self.key = key\n",
    "        self.key_len = len(key)\n",
    "    def encrypt(self,m):\n",
    "        assert len(m) % self.key_len == 0, \\\n",
    "            \"The plain text is not properly padded for encrypting. The length should be divisible by {}.\".format(self.key_len)\n",
    "        m_list = [char for char in m]\n",
    "        c_dict = {k:[m_list[i] for i in range(len(m_list)) if i % self.key_len == k_i] for k_i,k in enumerate(self.key)}\n",
    "        c = []\n",
    "        for i in range(1,self.key_len+1):\n",
    "            c.append(\"\".join(c_dict[i]))\n",
    "        return \"\".join(c)\n",
    "    def decrypt(self,c):\n",
    "        assert len(c) % self.key_len == 0, \\\n",
    "            \"Invalid length of ciphertext.\"\n",
    "        column_len = Integer(len(c) / self.key_len)\n",
    "        m_dict = {k:[c[i] for i in range((k-1)*column_len,(k-1)*column_len+column_len)] for k_i,k in enumerate(self.key)}\n",
    "        m = []\n",
    "        for i in range(column_len):\n",
    "            for k in self.key:\n",
    "                m.append(m_dict[k][i])\n",
    "        return \"\".join(m)"
   ]
  },
  {
   "cell_type": "code",
   "execution_count": 2,
   "id": "97bfbfb3",
   "metadata": {},
   "outputs": [
    {
     "name": "stdout",
     "output_type": "stream",
     "text": [
      "attackpostponeduntiltwoamxyz\n",
      "ttnaaptmtsuoaodwcoixknlypetz\n",
      "attackpostponeduntiltwoamxyz\n"
     ]
    }
   ],
   "source": [
    "rt = RowTransposition([4,3,1,2,5,6,7])\n",
    "m = \"attackpostponeduntiltwoamxyz\"\n",
    "c = rt.encrypt(m)\n",
    "rtn_m = rt.decrypt(c)\n",
    "\n",
    "print(m)\n",
    "print(c)\n",
    "print(rtn_m)"
   ]
  },
  {
   "cell_type": "markdown",
   "id": "87bbff55-185e-4b5e-b772-c11debffea10",
   "metadata": {},
   "source": [
    "## With wrong padding"
   ]
  },
  {
   "cell_type": "code",
   "execution_count": 3,
   "id": "cb20ae48-9510-40ed-be45-64fd7b0f98bb",
   "metadata": {},
   "outputs": [
    {
     "ename": "AssertionError",
     "evalue": "The plain text is not properly padded for encrypting. The length should be divisible by 7.",
     "output_type": "error",
     "traceback": [
      "\u001b[0;31m---------------------------------------------------------------------------\u001b[0m",
      "\u001b[0;31mAssertionError\u001b[0m                            Traceback (most recent call last)",
      "Cell \u001b[0;32mIn[3], line 1\u001b[0m\n\u001b[0;32m----> 1\u001b[0m \u001b[43mrt\u001b[49m\u001b[38;5;241;43m.\u001b[39;49m\u001b[43mencrypt\u001b[49m\u001b[43m(\u001b[49m\u001b[38;5;124;43m\"\u001b[39;49m\u001b[38;5;124;43mattackpostponeduntiltwoam\u001b[39;49m\u001b[38;5;124;43m\"\u001b[39;49m\u001b[43m)\u001b[49m\n",
      "Cell \u001b[0;32mIn[1], line 10\u001b[0m, in \u001b[0;36mRowTransposition.encrypt\u001b[0;34m(self, m)\u001b[0m\n\u001b[1;32m      9\u001b[0m \u001b[38;5;28;01mdef\u001b[39;00m \u001b[38;5;21mencrypt\u001b[39m(\u001b[38;5;28mself\u001b[39m,m):\n\u001b[0;32m---> 10\u001b[0m     \u001b[38;5;28;01massert\u001b[39;00m \u001b[38;5;28mlen\u001b[39m(m) \u001b[38;5;241m%\u001b[39m \u001b[38;5;28mself\u001b[39m\u001b[38;5;241m.\u001b[39mkey_len \u001b[38;5;241m==\u001b[39m Integer(\u001b[38;5;241m0\u001b[39m),             \u001b[38;5;124m\"\u001b[39m\u001b[38;5;124mThe plain text is not properly padded for encrypting. The length should be divisible by \u001b[39m\u001b[38;5;132;01m{}\u001b[39;00m\u001b[38;5;124m.\u001b[39m\u001b[38;5;124m\"\u001b[39m\u001b[38;5;241m.\u001b[39mformat(\u001b[38;5;28mself\u001b[39m\u001b[38;5;241m.\u001b[39mkey_len)\n\u001b[1;32m     11\u001b[0m     m_list \u001b[38;5;241m=\u001b[39m [char \u001b[38;5;28;01mfor\u001b[39;00m char \u001b[38;5;129;01min\u001b[39;00m m]\n\u001b[1;32m     12\u001b[0m     c_dict \u001b[38;5;241m=\u001b[39m {k:[m_list[i] \u001b[38;5;28;01mfor\u001b[39;00m i \u001b[38;5;129;01min\u001b[39;00m \u001b[38;5;28mrange\u001b[39m(\u001b[38;5;28mlen\u001b[39m(m_list)) \u001b[38;5;28;01mif\u001b[39;00m i \u001b[38;5;241m%\u001b[39m \u001b[38;5;28mself\u001b[39m\u001b[38;5;241m.\u001b[39mkey_len \u001b[38;5;241m==\u001b[39m k_i] \u001b[38;5;28;01mfor\u001b[39;00m k_i,k \u001b[38;5;129;01min\u001b[39;00m \u001b[38;5;28menumerate\u001b[39m(\u001b[38;5;28mself\u001b[39m\u001b[38;5;241m.\u001b[39mkey)}\n",
      "\u001b[0;31mAssertionError\u001b[0m: The plain text is not properly padded for encrypting. The length should be divisible by 7."
     ]
    }
   ],
   "source": [
    "rt.encrypt(\"attackpostponeduntiltwoam\")"
   ]
  },
  {
   "cell_type": "code",
   "execution_count": null,
   "id": "283774a6-a5bc-4c0e-a037-6faa5ad0103f",
   "metadata": {},
   "outputs": [],
   "source": []
  }
 ],
 "metadata": {
  "kernelspec": {
   "display_name": "SageMath 10.0",
   "language": "sage",
   "name": "sagemath"
  },
  "language_info": {
   "codemirror_mode": {
    "name": "ipython",
    "version": 3
   },
   "file_extension": ".py",
   "mimetype": "text/x-python",
   "name": "python",
   "nbconvert_exporter": "python",
   "pygments_lexer": "ipython3",
   "version": "3.11.3"
  }
 },
 "nbformat": 4,
 "nbformat_minor": 5
}
