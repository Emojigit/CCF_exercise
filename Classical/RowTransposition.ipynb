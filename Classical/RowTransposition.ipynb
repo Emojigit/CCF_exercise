{
 "cells": [
  {
   "cell_type": "code",
   "execution_count": 1,
   "id": "d6634186",
   "metadata": {},
   "outputs": [],
   "source": [
    "from collections.abc import Iterable\n",
    "\n",
    "class RowTransposition:\n",
    "    def __init__(self,key):\n",
    "        assert isinstance(key,Iterable)\n",
    "        for num in key: assert isinstance(num,int) or isinstance(num,Integer)\n",
    "        self.key = key\n",
    "        self.key_len = len(key)\n",
    "    def encrypt(self,m):\n",
    "        assert len(m) % self.key_len == 0\n",
    "        m_list = [char for char in m]\n",
    "        c_dict = {k:[m_list[i] for i in range(len(m_list)) if i % self.key_len == k_i] for k_i,k in enumerate(self.key)}\n",
    "        c = \"\"\n",
    "        for i in range(1,self.key_len+1):\n",
    "            c += \"\".join(c_dict[i])\n",
    "        return c\n",
    "    def decrypt(self,c):\n",
    "        assert len(c) % self.key_len == 0\n",
    "        column_len = Integer(len(c) / self.key_len)\n",
    "        m_dict = {k:[c[i] for i in range((k-1)*column_len,(k-1)*column_len+column_len)] for k_i,k in enumerate(self.key)}\n",
    "        m = \"\"\n",
    "        for i in range(column_len):\n",
    "            for k in self.key:\n",
    "                m += m_dict[k][i]\n",
    "        return m"
   ]
  },
  {
   "cell_type": "code",
   "execution_count": 2,
   "id": "97bfbfb3",
   "metadata": {},
   "outputs": [
    {
     "name": "stdout",
     "output_type": "stream",
     "text": [
      "attackpostponeduntiltwoamxyz\n",
      "ttnaaptmtsuoaodwcoixknlypetz\n",
      "attackpostponeduntiltwoamxyz\n"
     ]
    }
   ],
   "source": [
    "rt = RowTransposition([4,3,1,2,5,6,7])\n",
    "m = \"attackpostponeduntiltwoamxyz\"\n",
    "c = rt.encrypt(m)\n",
    "rtn_m = rt.decrypt(c)\n",
    "\n",
    "print(m)\n",
    "print(c)\n",
    "print(rtn_m)"
   ]
  },
  {
   "cell_type": "code",
   "execution_count": null,
   "id": "004b20e9",
   "metadata": {},
   "outputs": [],
   "source": []
  }
 ],
 "metadata": {
  "kernelspec": {
   "display_name": "SageMath 10.0",
   "language": "sage",
   "name": "sagemath"
  },
  "language_info": {
   "codemirror_mode": {
    "name": "ipython",
    "version": 3
   },
   "file_extension": ".py",
   "mimetype": "text/x-python",
   "name": "python",
   "nbconvert_exporter": "python",
   "pygments_lexer": "ipython3",
   "version": "3.11.3"
  }
 },
 "nbformat": 4,
 "nbformat_minor": 5
}
